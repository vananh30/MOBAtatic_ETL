{
 "cells": [
  {
   "cell_type": "code",
   "execution_count": 1,
   "id": "58ee40ed",
   "metadata": {},
   "outputs": [],
   "source": [
    "#https://www.kaggle.com/datasets/gyejr95/league-of-legendslol-ranked-games-2020-ver1\n"
   ]
  },
  {
   "cell_type": "markdown",
   "id": "6ffc401b",
   "metadata": {},
   "source": [
    "<h1> ETL Processes </h1>\n",
    "\n",
    "Use this notebook to develop the ETL process for each of your tables before completing the etl.py file to load the whole datasets."
   ]
  },
  {
   "cell_type": "code",
   "execution_count": 1,
   "id": "4415fd51",
   "metadata": {},
   "outputs": [],
   "source": [
    "import os\n",
    "import glob\n",
    "import psycopg2\n",
    "import pandas as pd\n",
    "import numpy as np\n",
    "from sql_queries import *\n",
    "import json # data processing, json file I/O\n",
    "from sqlalchemy import Table, Column, Float, Integer, String, MetaData, ForeignKey, JSON,Boolean\n",
    "import sqlalchemy # copy pd dataframe to Redshift \n",
    "from sqlalchemy.types import * # load staging_tables\n",
    "from sqlalchemy import create_engine"
   ]
  },
  {
   "cell_type": "code",
   "execution_count": 2,
   "id": "4607f3c7",
   "metadata": {},
   "outputs": [],
   "source": [
    "conn = psycopg2.connect(\"host=127.0.0.1 dbname=MOBAtatic user=postgres password=123456\")\n",
    "cur = conn.cursor()"
   ]
  },
  {
   "cell_type": "code",
   "execution_count": 3,
   "id": "bebb48a2",
   "metadata": {},
   "outputs": [
    {
     "name": "stdout",
     "output_type": "stream",
     "text": [
      "archive/match_data_version1.pickle\n",
      "archive/challenger_match_V2.csv\n",
      "archive/match_loser_data_version1.csv\n",
      "archive/match_loser_data_version1.pickle\n",
      "archive/challenger_match.csv\n",
      "archive/match_winner_data_version1.csv\n",
      "archive/match_data_version1.csv\n",
      "archive/match_data_version2.pickle\n",
      "archive/match_winner_data_version1.pickle\n"
     ]
    }
   ],
   "source": [
    "#take a look through our datasets file\n",
    "for dirname, _, filenames in os.walk('archive/'):\n",
    "    for filename in filenames:\n",
    "        print(os.path.join(dirname, filename))"
   ]
  },
  {
   "cell_type": "markdown",
   "id": "3ce3e020",
   "metadata": {},
   "source": [
    "<b>Describe and Gather Data </b> <br>\n",
    "The Kaggle dataset contains 10,800 game data in the KR server, the Data Dragon (meta_champs & meta_items) contains all the in-game data up to patch 10.15.1, which is the latest version of game by Aug. 2, 2020."
   ]
  },
  {
   "cell_type": "markdown",
   "id": "9462609c",
   "metadata": {},
   "source": [
    "Read 3 match data pickle files, match_df contains participants for both the winning and losing side of a match; winnder_df contains in-game stats and objetives info for the winning team of a match; loser_df contains the same info for the losing side"
   ]
  },
  {
   "cell_type": "code",
   "execution_count": 4,
   "id": "f3dfc938",
   "metadata": {},
   "outputs": [],
   "source": [
    "match_df = pd.read_pickle('archive/match_data_version1.pickle')\n",
    "winner_df =  pd.read_pickle('archive/match_loser_data_version1.pickle')\n",
    "loser_df = pd.read_pickle('archive/match_winner_data_version1.pickle')"
   ]
  },
  {
   "cell_type": "code",
   "execution_count": 5,
   "id": "fde44d6e",
   "metadata": {},
   "outputs": [
    {
     "name": "stdout",
     "output_type": "stream",
     "text": [
      "<class 'pandas.core.frame.DataFrame'>\n",
      "Int64Index: 108829 entries, 0 to 0\n",
      "Data columns (total 14 columns):\n",
      " #   Column                 Non-Null Count   Dtype  \n",
      "---  ------                 --------------   -----  \n",
      " 0   gameCreation           108829 non-null  float64\n",
      " 1   gameDuration           108829 non-null  float64\n",
      " 2   gameId                 108829 non-null  float64\n",
      " 3   gameMode               108829 non-null  object \n",
      " 4   gameType               108829 non-null  object \n",
      " 5   gameVersion            108829 non-null  object \n",
      " 6   mapId                  108829 non-null  float64\n",
      " 7   participantIdentities  108829 non-null  object \n",
      " 8   participants           108829 non-null  object \n",
      " 9   platformId             108829 non-null  object \n",
      " 10  queueId                108829 non-null  float64\n",
      " 11  seasonId               108829 non-null  float64\n",
      " 12  status.message         0 non-null       object \n",
      " 13  status.status_code     0 non-null       float64\n",
      "dtypes: float64(7), object(7)\n",
      "memory usage: 12.5+ MB\n",
      "None\n"
     ]
    },
    {
     "data": {
      "text/plain": [
       "gameCreation                                               1585154663829.0\n",
       "gameDuration                                                        1323.0\n",
       "gameId                                                        4247263043.0\n",
       "gameMode                                                           CLASSIC\n",
       "gameType                                                      MATCHED_GAME\n",
       "gameVersion                                                  10.6.314.4405\n",
       "mapId                                                                 11.0\n",
       "participantIdentities    [{'participantId': 1, 'player': {'platformId':...\n",
       "participants             [{'participantId': 1, 'teamId': 100, 'champion...\n",
       "platformId                                                              KR\n",
       "queueId                                                              420.0\n",
       "seasonId                                                              13.0\n",
       "status.message                                                         NaN\n",
       "status.status_code                                                     NaN\n",
       "Name: 0, dtype: object"
      ]
     },
     "execution_count": 5,
     "metadata": {},
     "output_type": "execute_result"
    }
   ],
   "source": [
    "print(match_df.info())\n",
    "match_df.iloc[0]"
   ]
  },
  {
   "cell_type": "code",
   "execution_count": 6,
   "id": "22af403f",
   "metadata": {},
   "outputs": [
    {
     "name": "stdout",
     "output_type": "stream",
     "text": [
      "<class 'pandas.core.frame.DataFrame'>\n",
      "RangeIndex: 108829 entries, 0 to 108828\n",
      "Data columns (total 17 columns):\n",
      " #   Column                Non-Null Count   Dtype  \n",
      "---  ------                --------------   -----  \n",
      " 0   teamId                108829 non-null  int64  \n",
      " 1   win                   108817 non-null  object \n",
      " 2   firstBlood            108829 non-null  bool   \n",
      " 3   firstTower            108829 non-null  bool   \n",
      " 4   firstInhibitor        108829 non-null  bool   \n",
      " 5   firstBaron            108829 non-null  bool   \n",
      " 6   firstDragon           108829 non-null  bool   \n",
      " 7   firstRiftHerald       108829 non-null  bool   \n",
      " 8   towerKills            108829 non-null  int64  \n",
      " 9   inhibitorKills        108829 non-null  int64  \n",
      " 10  baronKills            108829 non-null  int64  \n",
      " 11  dragonKills           108829 non-null  int64  \n",
      " 12  vilemawKills          108829 non-null  int64  \n",
      " 13  riftHeraldKills       108829 non-null  int64  \n",
      " 14  dominionVictoryScore  108829 non-null  int64  \n",
      " 15  bans                  108829 non-null  object \n",
      " 16  gameId                108829 non-null  float64\n",
      "dtypes: bool(6), float64(1), int64(8), object(2)\n",
      "memory usage: 9.8+ MB\n",
      "None\n"
     ]
    },
    {
     "data": {
      "text/plain": [
       "teamId                                                                100\n",
       "win                                                                  Fail\n",
       "firstBlood                                                           True\n",
       "firstTower                                                          False\n",
       "firstInhibitor                                                      False\n",
       "firstBaron                                                          False\n",
       "firstDragon                                                         False\n",
       "firstRiftHerald                                                     False\n",
       "towerKills                                                              0\n",
       "inhibitorKills                                                          0\n",
       "baronKills                                                              0\n",
       "dragonKills                                                             0\n",
       "vilemawKills                                                            0\n",
       "riftHeraldKills                                                         0\n",
       "dominionVictoryScore                                                    0\n",
       "bans                    [{'championId': -1, 'pickTurn': 1}, {'champion...\n",
       "gameId                                                       4247263043.0\n",
       "Name: 0, dtype: object"
      ]
     },
     "execution_count": 6,
     "metadata": {},
     "output_type": "execute_result"
    }
   ],
   "source": [
    "print(winner_df.info())\n",
    "winner_df.iloc[0]"
   ]
  },
  {
   "cell_type": "code",
   "execution_count": 7,
   "id": "79228410",
   "metadata": {},
   "outputs": [
    {
     "name": "stdout",
     "output_type": "stream",
     "text": [
      "<class 'pandas.core.frame.DataFrame'>\n",
      "RangeIndex: 108829 entries, 0 to 108828\n",
      "Data columns (total 17 columns):\n",
      " #   Column                Non-Null Count   Dtype  \n",
      "---  ------                --------------   -----  \n",
      " 0   teamId                108829 non-null  int64  \n",
      " 1   win                   108829 non-null  object \n",
      " 2   firstBlood            108829 non-null  bool   \n",
      " 3   firstTower            108829 non-null  bool   \n",
      " 4   firstInhibitor        108829 non-null  bool   \n",
      " 5   firstBaron            108829 non-null  bool   \n",
      " 6   firstDragon           108829 non-null  bool   \n",
      " 7   firstRiftHerald       108829 non-null  bool   \n",
      " 8   towerKills            108829 non-null  int64  \n",
      " 9   inhibitorKills        108829 non-null  int64  \n",
      " 10  baronKills            108829 non-null  int64  \n",
      " 11  dragonKills           108829 non-null  int64  \n",
      " 12  vilemawKills          108829 non-null  int64  \n",
      " 13  riftHeraldKills       108829 non-null  int64  \n",
      " 14  dominionVictoryScore  108829 non-null  int64  \n",
      " 15  bans                  108829 non-null  object \n",
      " 16  gameId                108829 non-null  float64\n",
      "dtypes: bool(6), float64(1), int64(8), object(2)\n",
      "memory usage: 9.8+ MB\n",
      "None\n"
     ]
    },
    {
     "data": {
      "text/plain": [
       "teamId                                                                200\n",
       "win                                                                   Win\n",
       "firstBlood                                                          False\n",
       "firstTower                                                           True\n",
       "firstInhibitor                                                       True\n",
       "firstBaron                                                          False\n",
       "firstDragon                                                          True\n",
       "firstRiftHerald                                                      True\n",
       "towerKills                                                              9\n",
       "inhibitorKills                                                          1\n",
       "baronKills                                                              0\n",
       "dragonKills                                                             3\n",
       "vilemawKills                                                            0\n",
       "riftHeraldKills                                                         2\n",
       "dominionVictoryScore                                                    0\n",
       "bans                    [{'championId': 523, 'pickTurn': 6}, {'champio...\n",
       "gameId                                                       4247263043.0\n",
       "Name: 0, dtype: object"
      ]
     },
     "execution_count": 7,
     "metadata": {},
     "output_type": "execute_result"
    }
   ],
   "source": [
    "print(loser_df.info())\n",
    "loser_df.iloc[0]"
   ]
  },
  {
   "cell_type": "code",
   "execution_count": 123,
   "id": "f27ab5f2",
   "metadata": {},
   "outputs": [],
   "source": [
    "meta_champs = pd.read_json('en_US-10.15.1/meta_champion.json')\n"
   ]
  },
  {
   "cell_type": "code",
   "execution_count": 124,
   "id": "5404f46e",
   "metadata": {},
   "outputs": [
    {
     "data": {
      "text/html": [
       "<div>\n",
       "<style scoped>\n",
       "    .dataframe tbody tr th:only-of-type {\n",
       "        vertical-align: middle;\n",
       "    }\n",
       "\n",
       "    .dataframe tbody tr th {\n",
       "        vertical-align: top;\n",
       "    }\n",
       "\n",
       "    .dataframe thead th {\n",
       "        text-align: right;\n",
       "    }\n",
       "</style>\n",
       "<table border=\"1\" class=\"dataframe\">\n",
       "  <thead>\n",
       "    <tr style=\"text-align: right;\">\n",
       "      <th></th>\n",
       "      <th>type</th>\n",
       "      <th>format</th>\n",
       "      <th>version</th>\n",
       "      <th>data</th>\n",
       "    </tr>\n",
       "  </thead>\n",
       "  <tbody>\n",
       "    <tr>\n",
       "      <th>Aatrox</th>\n",
       "      <td>champion</td>\n",
       "      <td>standAloneComplex</td>\n",
       "      <td>10.15.1</td>\n",
       "      <td>{'version': '10.15.1', 'id': 'Aatrox', 'key': ...</td>\n",
       "    </tr>\n",
       "    <tr>\n",
       "      <th>Ahri</th>\n",
       "      <td>champion</td>\n",
       "      <td>standAloneComplex</td>\n",
       "      <td>10.15.1</td>\n",
       "      <td>{'version': '10.15.1', 'id': 'Ahri', 'key': '1...</td>\n",
       "    </tr>\n",
       "    <tr>\n",
       "      <th>Akali</th>\n",
       "      <td>champion</td>\n",
       "      <td>standAloneComplex</td>\n",
       "      <td>10.15.1</td>\n",
       "      <td>{'version': '10.15.1', 'id': 'Akali', 'key': '...</td>\n",
       "    </tr>\n",
       "    <tr>\n",
       "      <th>Alistar</th>\n",
       "      <td>champion</td>\n",
       "      <td>standAloneComplex</td>\n",
       "      <td>10.15.1</td>\n",
       "      <td>{'version': '10.15.1', 'id': 'Alistar', 'key':...</td>\n",
       "    </tr>\n",
       "    <tr>\n",
       "      <th>Amumu</th>\n",
       "      <td>champion</td>\n",
       "      <td>standAloneComplex</td>\n",
       "      <td>10.15.1</td>\n",
       "      <td>{'version': '10.15.1', 'id': 'Amumu', 'key': '...</td>\n",
       "    </tr>\n",
       "    <tr>\n",
       "      <th>...</th>\n",
       "      <td>...</td>\n",
       "      <td>...</td>\n",
       "      <td>...</td>\n",
       "      <td>...</td>\n",
       "    </tr>\n",
       "    <tr>\n",
       "      <th>Zed</th>\n",
       "      <td>champion</td>\n",
       "      <td>standAloneComplex</td>\n",
       "      <td>10.15.1</td>\n",
       "      <td>{'version': '10.15.1', 'id': 'Zed', 'key': '23...</td>\n",
       "    </tr>\n",
       "    <tr>\n",
       "      <th>Ziggs</th>\n",
       "      <td>champion</td>\n",
       "      <td>standAloneComplex</td>\n",
       "      <td>10.15.1</td>\n",
       "      <td>{'version': '10.15.1', 'id': 'Ziggs', 'key': '...</td>\n",
       "    </tr>\n",
       "    <tr>\n",
       "      <th>Zilean</th>\n",
       "      <td>champion</td>\n",
       "      <td>standAloneComplex</td>\n",
       "      <td>10.15.1</td>\n",
       "      <td>{'version': '10.15.1', 'id': 'Zilean', 'key': ...</td>\n",
       "    </tr>\n",
       "    <tr>\n",
       "      <th>Zoe</th>\n",
       "      <td>champion</td>\n",
       "      <td>standAloneComplex</td>\n",
       "      <td>10.15.1</td>\n",
       "      <td>{'version': '10.15.1', 'id': 'Zoe', 'key': '14...</td>\n",
       "    </tr>\n",
       "    <tr>\n",
       "      <th>Zyra</th>\n",
       "      <td>champion</td>\n",
       "      <td>standAloneComplex</td>\n",
       "      <td>10.15.1</td>\n",
       "      <td>{'version': '10.15.1', 'id': 'Zyra', 'key': '1...</td>\n",
       "    </tr>\n",
       "  </tbody>\n",
       "</table>\n",
       "<p>149 rows × 4 columns</p>\n",
       "</div>"
      ],
      "text/plain": [
       "             type             format  version  \\\n",
       "Aatrox   champion  standAloneComplex  10.15.1   \n",
       "Ahri     champion  standAloneComplex  10.15.1   \n",
       "Akali    champion  standAloneComplex  10.15.1   \n",
       "Alistar  champion  standAloneComplex  10.15.1   \n",
       "Amumu    champion  standAloneComplex  10.15.1   \n",
       "...           ...                ...      ...   \n",
       "Zed      champion  standAloneComplex  10.15.1   \n",
       "Ziggs    champion  standAloneComplex  10.15.1   \n",
       "Zilean   champion  standAloneComplex  10.15.1   \n",
       "Zoe      champion  standAloneComplex  10.15.1   \n",
       "Zyra     champion  standAloneComplex  10.15.1   \n",
       "\n",
       "                                                      data  \n",
       "Aatrox   {'version': '10.15.1', 'id': 'Aatrox', 'key': ...  \n",
       "Ahri     {'version': '10.15.1', 'id': 'Ahri', 'key': '1...  \n",
       "Akali    {'version': '10.15.1', 'id': 'Akali', 'key': '...  \n",
       "Alistar  {'version': '10.15.1', 'id': 'Alistar', 'key':...  \n",
       "Amumu    {'version': '10.15.1', 'id': 'Amumu', 'key': '...  \n",
       "...                                                    ...  \n",
       "Zed      {'version': '10.15.1', 'id': 'Zed', 'key': '23...  \n",
       "Ziggs    {'version': '10.15.1', 'id': 'Ziggs', 'key': '...  \n",
       "Zilean   {'version': '10.15.1', 'id': 'Zilean', 'key': ...  \n",
       "Zoe      {'version': '10.15.1', 'id': 'Zoe', 'key': '14...  \n",
       "Zyra     {'version': '10.15.1', 'id': 'Zyra', 'key': '1...  \n",
       "\n",
       "[149 rows x 4 columns]"
      ]
     },
     "execution_count": 124,
     "metadata": {},
     "output_type": "execute_result"
    }
   ],
   "source": [
    "meta_champs"
   ]
  },
  {
   "cell_type": "markdown",
   "id": "391b3e09",
   "metadata": {},
   "source": [
    "the only info we need from the meta_champs is, the key-name mapping of each champion, becuase it is used in all match tables above."
   ]
  },
  {
   "cell_type": "markdown",
   "id": "09e1f0bb",
   "metadata": {},
   "source": [
    "similarly, we also need the 'key-name' mapping of each item from meta_items"
   ]
  },
  {
   "cell_type": "code",
   "execution_count": 125,
   "id": "b7143c6f",
   "metadata": {},
   "outputs": [],
   "source": [
    "with open('en_US-10.15.1/meta_item.json') as f:\n",
    "    data = json.load(f)\n",
    "meta_items = pd.read_json(json.dumps(data['data']), orient='index')"
   ]
  },
  {
   "cell_type": "code",
   "execution_count": 126,
   "id": "93fe4c82",
   "metadata": {},
   "outputs": [
    {
     "data": {
      "text/html": [
       "<div>\n",
       "<style scoped>\n",
       "    .dataframe tbody tr th:only-of-type {\n",
       "        vertical-align: middle;\n",
       "    }\n",
       "\n",
       "    .dataframe tbody tr th {\n",
       "        vertical-align: top;\n",
       "    }\n",
       "\n",
       "    .dataframe thead th {\n",
       "        text-align: right;\n",
       "    }\n",
       "</style>\n",
       "<table border=\"1\" class=\"dataframe\">\n",
       "  <thead>\n",
       "    <tr style=\"text-align: right;\">\n",
       "      <th></th>\n",
       "      <th>name</th>\n",
       "      <th>description</th>\n",
       "      <th>colloq</th>\n",
       "      <th>plaintext</th>\n",
       "      <th>into</th>\n",
       "      <th>image</th>\n",
       "      <th>gold</th>\n",
       "      <th>tags</th>\n",
       "      <th>maps</th>\n",
       "      <th>stats</th>\n",
       "      <th>...</th>\n",
       "      <th>depth</th>\n",
       "      <th>effect</th>\n",
       "      <th>hideFromAll</th>\n",
       "      <th>stacks</th>\n",
       "      <th>consumed</th>\n",
       "      <th>inStore</th>\n",
       "      <th>consumeOnFull</th>\n",
       "      <th>specialRecipe</th>\n",
       "      <th>requiredChampion</th>\n",
       "      <th>requiredAlly</th>\n",
       "    </tr>\n",
       "  </thead>\n",
       "  <tbody>\n",
       "    <tr>\n",
       "      <th>1001</th>\n",
       "      <td>Boots of Speed</td>\n",
       "      <td>&lt;groupLimit&gt;Limited to 1 pair of boots.&lt;/group...</td>\n",
       "      <td>;</td>\n",
       "      <td>Slightly increases Movement Speed</td>\n",
       "      <td>[3006, 3047, 3020, 3158, 3111, 3117, 3009, 4001]</td>\n",
       "      <td>{'full': '1001.png', 'sprite': 'item0.png', 'g...</td>\n",
       "      <td>{'base': 300, 'purchasable': True, 'total': 30...</td>\n",
       "      <td>[Boots]</td>\n",
       "      <td>{'11': True, '12': True, '21': True, '22': False}</td>\n",
       "      <td>{'FlatMovementSpeedMod': 25}</td>\n",
       "      <td>...</td>\n",
       "      <td>NaN</td>\n",
       "      <td>NaN</td>\n",
       "      <td>NaN</td>\n",
       "      <td>NaN</td>\n",
       "      <td>NaN</td>\n",
       "      <td>NaN</td>\n",
       "      <td>NaN</td>\n",
       "      <td>NaN</td>\n",
       "      <td>NaN</td>\n",
       "      <td>NaN</td>\n",
       "    </tr>\n",
       "    <tr>\n",
       "      <th>1004</th>\n",
       "      <td>Faerie Charm</td>\n",
       "      <td>&lt;stats&gt;&lt;mana&gt;+25% Base Mana Regen &lt;/mana&gt;&lt;/stats&gt;</td>\n",
       "      <td>;</td>\n",
       "      <td>Slightly increases Mana Regen</td>\n",
       "      <td>[3028, 3070, 3073, 3114]</td>\n",
       "      <td>{'full': '1004.png', 'sprite': 'item0.png', 'g...</td>\n",
       "      <td>{'base': 125, 'purchasable': True, 'total': 12...</td>\n",
       "      <td>[ManaRegen]</td>\n",
       "      <td>{'11': True, '12': True, '21': True, '22': False}</td>\n",
       "      <td>{}</td>\n",
       "      <td>...</td>\n",
       "      <td>NaN</td>\n",
       "      <td>NaN</td>\n",
       "      <td>NaN</td>\n",
       "      <td>NaN</td>\n",
       "      <td>NaN</td>\n",
       "      <td>NaN</td>\n",
       "      <td>NaN</td>\n",
       "      <td>NaN</td>\n",
       "      <td>NaN</td>\n",
       "      <td>NaN</td>\n",
       "    </tr>\n",
       "    <tr>\n",
       "      <th>1006</th>\n",
       "      <td>Rejuvenation Bead</td>\n",
       "      <td>&lt;stats&gt;+50% Base Health Regen &lt;/stats&gt;</td>\n",
       "      <td>;</td>\n",
       "      <td>Slightly increases Health Regen</td>\n",
       "      <td>[3077, 3801, 3194, 4401]</td>\n",
       "      <td>{'full': '1006.png', 'sprite': 'item0.png', 'g...</td>\n",
       "      <td>{'base': 150, 'purchasable': True, 'total': 15...</td>\n",
       "      <td>[HealthRegen]</td>\n",
       "      <td>{'11': True, '12': True, '21': True, '22': False}</td>\n",
       "      <td>{}</td>\n",
       "      <td>...</td>\n",
       "      <td>NaN</td>\n",
       "      <td>NaN</td>\n",
       "      <td>NaN</td>\n",
       "      <td>NaN</td>\n",
       "      <td>NaN</td>\n",
       "      <td>NaN</td>\n",
       "      <td>NaN</td>\n",
       "      <td>NaN</td>\n",
       "      <td>NaN</td>\n",
       "      <td>NaN</td>\n",
       "    </tr>\n",
       "    <tr>\n",
       "      <th>1011</th>\n",
       "      <td>Giant's Belt</td>\n",
       "      <td>&lt;stats&gt;+380 Health&lt;/stats&gt;</td>\n",
       "      <td>;</td>\n",
       "      <td>Greatly increases Health</td>\n",
       "      <td>[3083, 3084, 3022, 3143, 3742]</td>\n",
       "      <td>{'full': '1011.png', 'sprite': 'item0.png', 'g...</td>\n",
       "      <td>{'base': 600, 'purchasable': True, 'total': 10...</td>\n",
       "      <td>[Health]</td>\n",
       "      <td>{'11': True, '12': True, '21': True, '22': False}</td>\n",
       "      <td>{'FlatHPPoolMod': 380}</td>\n",
       "      <td>...</td>\n",
       "      <td>2.0</td>\n",
       "      <td>NaN</td>\n",
       "      <td>NaN</td>\n",
       "      <td>NaN</td>\n",
       "      <td>NaN</td>\n",
       "      <td>NaN</td>\n",
       "      <td>NaN</td>\n",
       "      <td>NaN</td>\n",
       "      <td>NaN</td>\n",
       "      <td>NaN</td>\n",
       "    </tr>\n",
       "    <tr>\n",
       "      <th>1018</th>\n",
       "      <td>Cloak of Agility</td>\n",
       "      <td>&lt;stats&gt;+20% Critical Strike Chance&lt;/stats&gt;</td>\n",
       "      <td>;</td>\n",
       "      <td>Increases critical strike chance</td>\n",
       "      <td>[3086, 3095, 3031, 3508]</td>\n",
       "      <td>{'full': '1018.png', 'sprite': 'item0.png', 'g...</td>\n",
       "      <td>{'base': 800, 'purchasable': True, 'total': 80...</td>\n",
       "      <td>[CriticalStrike]</td>\n",
       "      <td>{'11': True, '12': True, '21': True, '22': False}</td>\n",
       "      <td>{'FlatCritChanceMod': 0.2}</td>\n",
       "      <td>...</td>\n",
       "      <td>NaN</td>\n",
       "      <td>NaN</td>\n",
       "      <td>NaN</td>\n",
       "      <td>NaN</td>\n",
       "      <td>NaN</td>\n",
       "      <td>NaN</td>\n",
       "      <td>NaN</td>\n",
       "      <td>NaN</td>\n",
       "      <td>NaN</td>\n",
       "      <td>NaN</td>\n",
       "    </tr>\n",
       "  </tbody>\n",
       "</table>\n",
       "<p>5 rows × 21 columns</p>\n",
       "</div>"
      ],
      "text/plain": [
       "                   name                                        description  \\\n",
       "1001     Boots of Speed  <groupLimit>Limited to 1 pair of boots.</group...   \n",
       "1004       Faerie Charm  <stats><mana>+25% Base Mana Regen </mana></stats>   \n",
       "1006  Rejuvenation Bead             <stats>+50% Base Health Regen </stats>   \n",
       "1011       Giant's Belt                         <stats>+380 Health</stats>   \n",
       "1018   Cloak of Agility         <stats>+20% Critical Strike Chance</stats>   \n",
       "\n",
       "     colloq                          plaintext  \\\n",
       "1001      ;  Slightly increases Movement Speed   \n",
       "1004      ;      Slightly increases Mana Regen   \n",
       "1006      ;    Slightly increases Health Regen   \n",
       "1011      ;           Greatly increases Health   \n",
       "1018      ;   Increases critical strike chance   \n",
       "\n",
       "                                                  into  \\\n",
       "1001  [3006, 3047, 3020, 3158, 3111, 3117, 3009, 4001]   \n",
       "1004                          [3028, 3070, 3073, 3114]   \n",
       "1006                          [3077, 3801, 3194, 4401]   \n",
       "1011                    [3083, 3084, 3022, 3143, 3742]   \n",
       "1018                          [3086, 3095, 3031, 3508]   \n",
       "\n",
       "                                                  image  \\\n",
       "1001  {'full': '1001.png', 'sprite': 'item0.png', 'g...   \n",
       "1004  {'full': '1004.png', 'sprite': 'item0.png', 'g...   \n",
       "1006  {'full': '1006.png', 'sprite': 'item0.png', 'g...   \n",
       "1011  {'full': '1011.png', 'sprite': 'item0.png', 'g...   \n",
       "1018  {'full': '1018.png', 'sprite': 'item0.png', 'g...   \n",
       "\n",
       "                                                   gold              tags  \\\n",
       "1001  {'base': 300, 'purchasable': True, 'total': 30...           [Boots]   \n",
       "1004  {'base': 125, 'purchasable': True, 'total': 12...       [ManaRegen]   \n",
       "1006  {'base': 150, 'purchasable': True, 'total': 15...     [HealthRegen]   \n",
       "1011  {'base': 600, 'purchasable': True, 'total': 10...          [Health]   \n",
       "1018  {'base': 800, 'purchasable': True, 'total': 80...  [CriticalStrike]   \n",
       "\n",
       "                                                   maps  \\\n",
       "1001  {'11': True, '12': True, '21': True, '22': False}   \n",
       "1004  {'11': True, '12': True, '21': True, '22': False}   \n",
       "1006  {'11': True, '12': True, '21': True, '22': False}   \n",
       "1011  {'11': True, '12': True, '21': True, '22': False}   \n",
       "1018  {'11': True, '12': True, '21': True, '22': False}   \n",
       "\n",
       "                             stats  ... depth  effect hideFromAll  stacks  \\\n",
       "1001  {'FlatMovementSpeedMod': 25}  ...   NaN     NaN         NaN     NaN   \n",
       "1004                            {}  ...   NaN     NaN         NaN     NaN   \n",
       "1006                            {}  ...   NaN     NaN         NaN     NaN   \n",
       "1011        {'FlatHPPoolMod': 380}  ...   2.0     NaN         NaN     NaN   \n",
       "1018    {'FlatCritChanceMod': 0.2}  ...   NaN     NaN         NaN     NaN   \n",
       "\n",
       "      consumed  inStore  consumeOnFull  specialRecipe  requiredChampion  \\\n",
       "1001       NaN      NaN            NaN            NaN               NaN   \n",
       "1004       NaN      NaN            NaN            NaN               NaN   \n",
       "1006       NaN      NaN            NaN            NaN               NaN   \n",
       "1011       NaN      NaN            NaN            NaN               NaN   \n",
       "1018       NaN      NaN            NaN            NaN               NaN   \n",
       "\n",
       "     requiredAlly  \n",
       "1001          NaN  \n",
       "1004          NaN  \n",
       "1006          NaN  \n",
       "1011          NaN  \n",
       "1018          NaN  \n",
       "\n",
       "[5 rows x 21 columns]"
      ]
     },
     "execution_count": 126,
     "metadata": {},
     "output_type": "execute_result"
    }
   ],
   "source": [
    "meta_items.head()"
   ]
  },
  {
   "cell_type": "code",
   "execution_count": 12,
   "id": "398e7782",
   "metadata": {},
   "outputs": [
    {
     "name": "stdout",
     "output_type": "stream",
     "text": [
      "<class 'pandas.core.frame.DataFrame'>\n",
      "Int64Index: 264 entries, 1001 to 4403\n",
      "Data columns (total 21 columns):\n",
      " #   Column            Non-Null Count  Dtype  \n",
      "---  ------            --------------  -----  \n",
      " 0   name              264 non-null    object \n",
      " 1   description       264 non-null    object \n",
      " 2   colloq            264 non-null    object \n",
      " 3   plaintext         264 non-null    object \n",
      " 4   into              84 non-null     object \n",
      " 5   image             264 non-null    object \n",
      " 6   gold              264 non-null    object \n",
      " 7   tags              264 non-null    object \n",
      " 8   maps              264 non-null    object \n",
      " 9   stats             264 non-null    object \n",
      " 10  from              165 non-null    object \n",
      " 11  depth             165 non-null    float64\n",
      " 12  effect            212 non-null    object \n",
      " 13  hideFromAll       26 non-null     float64\n",
      " 14  stacks            16 non-null     float64\n",
      " 15  consumed          19 non-null     float64\n",
      " 16  inStore           34 non-null     float64\n",
      " 17  consumeOnFull     7 non-null      float64\n",
      " 18  specialRecipe     17 non-null     float64\n",
      " 19  requiredChampion  15 non-null     object \n",
      " 20  requiredAlly      13 non-null     object \n",
      "dtypes: float64(7), object(14)\n",
      "memory usage: 45.4+ KB\n"
     ]
    },
    {
     "data": {
      "text/plain": [
       "name                                                   Boots of Speed\n",
       "description         <groupLimit>Limited to 1 pair of boots.</group...\n",
       "colloq                                                              ;\n",
       "plaintext                           Slightly increases Movement Speed\n",
       "into                 [3006, 3047, 3020, 3158, 3111, 3117, 3009, 4001]\n",
       "image               {'full': '1001.png', 'sprite': 'item0.png', 'g...\n",
       "gold                {'base': 300, 'purchasable': True, 'total': 30...\n",
       "tags                                                          [Boots]\n",
       "maps                {'11': True, '12': True, '21': True, '22': False}\n",
       "stats                                    {'FlatMovementSpeedMod': 25}\n",
       "from                                                              NaN\n",
       "depth                                                             NaN\n",
       "effect                                                            NaN\n",
       "hideFromAll                                                       NaN\n",
       "stacks                                                            NaN\n",
       "consumed                                                          NaN\n",
       "inStore                                                           NaN\n",
       "consumeOnFull                                                     NaN\n",
       "specialRecipe                                                     NaN\n",
       "requiredChampion                                                  NaN\n",
       "requiredAlly                                                      NaN\n",
       "Name: 1001, dtype: object"
      ]
     },
     "execution_count": 12,
     "metadata": {},
     "output_type": "execute_result"
    }
   ],
   "source": [
    "meta_items.info()\n",
    "meta_items.iloc[0]"
   ]
  },
  {
   "cell_type": "code",
   "execution_count": 13,
   "id": "c8bd46d1",
   "metadata": {},
   "outputs": [
    {
     "data": {
      "text/plain": [
       "array(['CLASSIC', 'ARAM', 'ONEFORALL', 'URF', 'TUTORIAL_MODULE_3',\n",
       "       'TUTORIAL_MODULE_1', 'KINGPORO', 'TUTORIAL_MODULE_2'], dtype=object)"
      ]
     },
     "execution_count": 13,
     "metadata": {},
     "output_type": "execute_result"
    }
   ],
   "source": [
    "match_df['gameMode'].unique()"
   ]
  },
  {
   "cell_type": "markdown",
   "id": "26e72147",
   "metadata": {},
   "source": [
    "Only classic games are needed, we should drop all other game modes"
   ]
  },
  {
   "cell_type": "code",
   "execution_count": 14,
   "id": "68433b84",
   "metadata": {},
   "outputs": [],
   "source": [
    "gameId_CLASSIC =  match_df[match_df['gameMode'] == 'CLASSIC'].gameId.tolist()"
   ]
  },
  {
   "cell_type": "code",
   "execution_count": 15,
   "id": "cfef00a7",
   "metadata": {},
   "outputs": [],
   "source": [
    "winner_df = winner_df[winner_df['gameId'].isin(gameId_CLASSIC)]\n",
    "loser_df = loser_df[loser_df['gameId'].isin(gameId_CLASSIC)]\n",
    "match_df = match_df[match_df['gameId'].isin(gameId_CLASSIC)]"
   ]
  },
  {
   "cell_type": "code",
   "execution_count": 16,
   "id": "4cc5ed2a",
   "metadata": {},
   "outputs": [
    {
     "data": {
      "text/plain": [
       "array(['CLASSIC'], dtype=object)"
      ]
     },
     "execution_count": 16,
     "metadata": {},
     "output_type": "execute_result"
    }
   ],
   "source": [
    "match_df.gameMode.unique()"
   ]
  },
  {
   "cell_type": "markdown",
   "id": "5c78ea24",
   "metadata": {},
   "source": [
    "if one player disconnected from a game right from the start, the team can choose to <b>remake</b> the game, meaning the match will end immediately <br>\n",
    "\n",
    "remake should not be regarded the same as a loss, because the other players in the team just did not want a 4v5 situation<br>\n",
    "\n",
    "we should identify the remake games from match_df, as they affect our win/loss analysis<br>\n",
    "\n",
    "a team can only choose to reamke in the first 15 mins of the game, after that the reamke attempt becomes an early surrender(which is just the same as a loss)<br>\n",
    "\n",
    "also in reality, rarely a game at this ranking level would finish before 15 mins, unless someone disconnected\n",
    "<br>\n",
    "so if gameDuration in match_df <= 15 mins, we can almost be certain that the game is a remake<br>\n",
    "\n",
    "we will drop these games<br>"
   ]
  },
  {
   "cell_type": "code",
   "execution_count": 17,
   "id": "92994800",
   "metadata": {},
   "outputs": [],
   "source": [
    "gameId_remake = match_df.query('gameDuration <= 15*60').gameId.values.tolist()"
   ]
  },
  {
   "cell_type": "code",
   "execution_count": 18,
   "id": "bc18a64e",
   "metadata": {},
   "outputs": [],
   "source": [
    "winner_df = winner_df[~winner_df['gameId'].isin(gameId_remake)]\n",
    "loser_df = loser_df[~loser_df['gameId'].isin(gameId_remake)]\n",
    "match_df = match_df[~match_df['gameId'].isin(gameId_remake)]\n"
   ]
  },
  {
   "cell_type": "code",
   "execution_count": 19,
   "id": "cb83f31c",
   "metadata": {},
   "outputs": [
    {
     "name": "stdout",
     "output_type": "stream",
     "text": [
      "now the shortest game in df is 15.02 mins\n"
     ]
    }
   ],
   "source": [
    "print('now the shortest game in df is {:.2f} mins'.format(match_df.gameDuration.min() / 60))"
   ]
  },
  {
   "cell_type": "code",
   "execution_count": 20,
   "id": "22ab9a7e",
   "metadata": {},
   "outputs": [],
   "source": [
    "# in the meta_dfs, we only need the key-name mapping, all other columns are dropped\n",
    "meta_items = meta_items[['name']]\n",
    "meta_champs['key'] = meta_champs.apply(lambda row: row.data['key'], axis=1)\n",
    "meta_champs = meta_champs[['key']]"
   ]
  },
  {
   "cell_type": "code",
   "execution_count": 21,
   "id": "23950c6e",
   "metadata": {},
   "outputs": [],
   "source": [
    "for query in drop_table_queries:\n",
    "        cur.execute(query)\n",
    "#create tables\n",
    "for query in create_table_queries:\n",
    "        cur.execute(query)"
   ]
  },
  {
   "cell_type": "code",
   "execution_count": 22,
   "id": "b9da7e9d",
   "metadata": {},
   "outputs": [
    {
     "name": "stdout",
     "output_type": "stream",
     "text": [
      "('games',)\n",
      "('champions',)\n",
      "('items',)\n",
      "('objectives_visions',)\n",
      "('champion_key',)\n",
      "('item_key',)\n"
     ]
    }
   ],
   "source": [
    "cur.execute(\"\"\"SELECT table_name FROM information_schema.tables\n",
    "       WHERE table_schema = 'public'\"\"\")\n",
    "for table in cur.fetchall():\n",
    "    print(table)"
   ]
  },
  {
   "cell_type": "code",
   "execution_count": 23,
   "id": "4a1b5c99",
   "metadata": {},
   "outputs": [
    {
     "data": {
      "text/html": [
       "<div>\n",
       "<style scoped>\n",
       "    .dataframe tbody tr th:only-of-type {\n",
       "        vertical-align: middle;\n",
       "    }\n",
       "\n",
       "    .dataframe tbody tr th {\n",
       "        vertical-align: top;\n",
       "    }\n",
       "\n",
       "    .dataframe thead th {\n",
       "        text-align: right;\n",
       "    }\n",
       "</style>\n",
       "<table border=\"1\" class=\"dataframe\">\n",
       "  <thead>\n",
       "    <tr style=\"text-align: right;\">\n",
       "      <th></th>\n",
       "      <th>table_name</th>\n",
       "      <th>column_name</th>\n",
       "      <th>data_type</th>\n",
       "    </tr>\n",
       "  </thead>\n",
       "  <tbody>\n",
       "  </tbody>\n",
       "</table>\n",
       "</div>"
      ],
      "text/plain": [
       "Empty DataFrame\n",
       "Columns: [table_name, column_name, data_type]\n",
       "Index: []"
      ]
     },
     "execution_count": 23,
     "metadata": {},
     "output_type": "execute_result"
    }
   ],
   "source": [
    "pd.options.display.max_rows = 75\n",
    "cur.execute(\"\"\"SELECT table_name, column_name, data_type FROM information_schema.columns WHERE table_name LIKE 'staging_%'\"\"\")\n",
    "pd.DataFrame(cur.fetchall(), columns=['table_name', 'column_name', 'data_type'])"
   ]
  },
  {
   "cell_type": "markdown",
   "id": "de16813a",
   "metadata": {},
   "source": [
    "<h1> #1: champions Table </h1>"
   ]
  },
  {
   "cell_type": "markdown",
   "id": "d3b79dc0",
   "metadata": {},
   "source": [
    "champ1 - champion 10 is stored in staging_match, we can retreive them and the gameId of each 10 champX\n",
    "\n",
    "the champions_table_value statement looks a bit complicated, due to the nature of json array column in psotgres"
   ]
  },
  {
   "cell_type": "markdown",
   "id": "ed5830dd",
   "metadata": {},
   "source": [
    "1. a.explode(\"participants\") basically duplicates each row in the participants N times, where N is the number of items (here this is 10) in the array (if any) of participants of that row. <br>\n",
    "\n",
    "2. Since explode duplicates the rows, the original rows' indices (0 and 1) are copied to the new rows, so their indices are 0, 0, 1, 1, which messes up later processing. reset_index() creates a fresh new column for the index, starting at 0. drop=True is used because by default pandas will keep the old index column; this removes it. <br>\n",
    "\n",
    "3. pd.json_normalize(df['participants']) converts the column (where each row contains a JSON object) to a new dataframe where each key unique of all the JSON objects is new column. <br>\n",
    "\n",
    "4. df.merge() merges the new dataframe into the original one <br>\n",
    "5. left_index=True and right_index=True tells pandas to merge the specified dataframe starting from it's first, row into this dataframe, starting at its first row <br>\n",
    "6. we just need three column ['gameId','participantId','championId'] <br>\n",
    "7. make a pivot here to convert the participantID to column name which is consist which the champions table (champ_1, champ_2, champ_3,...champ_10) <br>\n",
    "8. reset_index to avoid the sub index after applying pivot and then remove the index column name by using rename_axis <br>"
   ]
  },
  {
   "cell_type": "code",
   "execution_count": 87,
   "id": "00f911ac",
   "metadata": {},
   "outputs": [],
   "source": [
    "a = match_df[['gameId', 'participants']]"
   ]
  },
  {
   "cell_type": "code",
   "execution_count": 88,
   "id": "9ab008f7",
   "metadata": {},
   "outputs": [],
   "source": [
    "a = match_df[['gameId', 'participants']]\n",
    "df = a.explode('participants').reset_index(drop=True)\n",
    "df = df.merge(pd.json_normalize(df['participants']), left_index=True, right_index=True)"
   ]
  },
  {
   "cell_type": "code",
   "execution_count": 26,
   "id": "c368b39d",
   "metadata": {},
   "outputs": [
    {
     "name": "stderr",
     "output_type": "stream",
     "text": [
      "/var/folders/rs/xjf_6_vd4j16cdjg_j2td15h0000gn/T/ipykernel_27914/1481404577.py:2: SettingWithCopyWarning: \n",
      "A value is trying to be set on a copy of a slice from a DataFrame.\n",
      "Try using .loc[row_indexer,col_indexer] = value instead\n",
      "\n",
      "See the caveats in the documentation: https://pandas.pydata.org/pandas-docs/stable/user_guide/indexing.html#returning-a-view-versus-a-copy\n",
      "  champions_df['idx'] = champions_df.groupby('gameId').cumcount()\n"
     ]
    }
   ],
   "source": [
    "champions_df = df[['gameId','participantId','championId'  ]]\n",
    "champions_df['idx'] = champions_df.groupby('gameId').cumcount()\n",
    "b = champions_df.pivot(index = 'gameId', columns='idx', values = 'championId').reset_index().rename_axis(columns=None, axis=1)"
   ]
  },
  {
   "cell_type": "markdown",
   "id": "7c787622",
   "metadata": {},
   "source": [
    "We see the index is 20, let check for the unique of gameID and also the reason behind why there are 20 index in this case instead of 10 as our expectation."
   ]
  },
  {
   "cell_type": "code",
   "execution_count": 27,
   "id": "8b34cc19",
   "metadata": {},
   "outputs": [
    {
     "name": "stdout",
     "output_type": "stream",
     "text": [
      "Number of records contain 20 champ_id:  34\n",
      "Number of records duplicate champ_id:  0\n"
     ]
    }
   ],
   "source": [
    "is_20 = b[b[11].notnull()].gameId\n",
    "print('Number of records contain 20 champ_id: ', len(is_20))\n",
    "duplicate = a[a.duplicated('gameId')]\n",
    "is_dup = b[b.duplicated('gameId')].gameId\n",
    "print('Number of records duplicate champ_id: ', len(is_dup))"
   ]
  },
  {
   "cell_type": "code",
   "execution_count": 89,
   "id": "04acfbfc",
   "metadata": {},
   "outputs": [],
   "source": [
    "#drop duplicate in gameid\n",
    "b = b.drop_duplicates(subset=['gameId'])\n",
    "#drop column with contain chapm number is 20\n",
    "b = b[~b['gameId'].isin(is_20)]\n",
    "#also exclude from orginal df\n",
    "df = df[~df['gameId'].isin(is_20)]\n",
    "#just select column from 0->9\n",
    "c = b.iloc[:, 0:11]"
   ]
  },
  {
   "cell_type": "markdown",
   "id": "50afc37b",
   "metadata": {},
   "source": [
    "one issue is noted before the insertion can be completed: some games in the original data have mssing champ_ids"
   ]
  },
  {
   "cell_type": "code",
   "execution_count": 90,
   "id": "de43c38a",
   "metadata": {},
   "outputs": [],
   "source": [
    "#just exclude the game that contain the number of champ < 10\n",
    "is_miss = c[c.isnull().any(axis=1)].gameId\n",
    "c = c[~c['gameId'].isin(is_miss)]\n",
    "#also exclude from orginal df\n",
    "df = df[~df['gameId'].isin(is_miss)]"
   ]
  },
  {
   "cell_type": "code",
   "execution_count": 30,
   "id": "c72048a5",
   "metadata": {},
   "outputs": [],
   "source": [
    "#convert type to valid int\n",
    "c = c.astype(int)"
   ]
  },
  {
   "cell_type": "markdown",
   "id": "395577ad",
   "metadata": {},
   "source": [
    "all games are valid now, we can proceed with the insertion"
   ]
  },
  {
   "cell_type": "code",
   "execution_count": 31,
   "id": "eeadcadc",
   "metadata": {},
   "outputs": [],
   "source": [
    "for i in range(len(c)):\n",
    "    cur.execute(champions_table_insert, c[c.columns].values[i].tolist())\n",
    "    conn.commit()"
   ]
  },
  {
   "cell_type": "code",
   "execution_count": 32,
   "id": "d18a0d11",
   "metadata": {},
   "outputs": [
    {
     "data": {
      "text/plain": [
       "[(3190375139, 201, 13, 136, 2, 29, 497, 120, 117, 498, 121),\n",
       " (3191353856, 82, 99, 421, 38, 27, 55, 157, 497, 145, 59),\n",
       " (3191955256, 27, 117, 81, 56, 105, 145, 114, 201, 38, 72)]"
      ]
     },
     "execution_count": 32,
     "metadata": {},
     "output_type": "execute_result"
    }
   ],
   "source": [
    "cur.execute(\"\"\"SELECT * FROM champions Limit 3\"\"\")\n",
    "cur.fetchall()"
   ]
  },
  {
   "cell_type": "markdown",
   "id": "f56cd387",
   "metadata": {},
   "source": [
    "<h1> #2: items Table </h1>"
   ]
  },
  {
   "cell_type": "code",
   "execution_count": 91,
   "id": "c3027755",
   "metadata": {},
   "outputs": [],
   "source": [
    "items = ['gameId','participantId','stats.item0', 'stats.item1', 'stats.item2', 'stats.item3', 'stats.item4', 'stats.item5', 'stats.item6']"
   ]
  },
  {
   "cell_type": "code",
   "execution_count": 92,
   "id": "889a4cfe",
   "metadata": {},
   "outputs": [],
   "source": [
    "df_items = df[items]"
   ]
  },
  {
   "cell_type": "code",
   "execution_count": 93,
   "id": "169c69ed",
   "metadata": {},
   "outputs": [
    {
     "name": "stderr",
     "output_type": "stream",
     "text": [
      "/var/folders/rs/xjf_6_vd4j16cdjg_j2td15h0000gn/T/ipykernel_27914/1770228038.py:1: SettingWithCopyWarning: \n",
      "A value is trying to be set on a copy of a slice from a DataFrame.\n",
      "Try using .loc[row_indexer,col_indexer] = value instead\n",
      "\n",
      "See the caveats in the documentation: https://pandas.pydata.org/pandas-docs/stable/user_guide/indexing.html#returning-a-view-versus-a-copy\n",
      "  df_items['combine'] = df_items[['stats.item0', 'stats.item1', 'stats.item2', 'stats.item3', 'stats.item4', 'stats.item5', 'stats.item6']].values.tolist()\n"
     ]
    }
   ],
   "source": [
    "df_items['combine'] = df_items[['stats.item0', 'stats.item1', 'stats.item2', 'stats.item3', 'stats.item4', 'stats.item5', 'stats.item6']].values.tolist()\n",
    "df_items = df_items[['gameId','participantId', 'combine']]\n",
    "df_items['idx'] = df_items.groupby('gameId').cumcount()\n",
    "df_items = df_items.pivot(index = 'gameId', columns='idx', values = 'combine').reset_index().rename_axis(columns=None, axis=1)"
   ]
  },
  {
   "cell_type": "code",
   "execution_count": 94,
   "id": "72767458",
   "metadata": {},
   "outputs": [
    {
     "data": {
      "text/html": [
       "<div>\n",
       "<style scoped>\n",
       "    .dataframe tbody tr th:only-of-type {\n",
       "        vertical-align: middle;\n",
       "    }\n",
       "\n",
       "    .dataframe tbody tr th {\n",
       "        vertical-align: top;\n",
       "    }\n",
       "\n",
       "    .dataframe thead th {\n",
       "        text-align: right;\n",
       "    }\n",
       "</style>\n",
       "<table border=\"1\" class=\"dataframe\">\n",
       "  <thead>\n",
       "    <tr style=\"text-align: right;\">\n",
       "      <th></th>\n",
       "      <th>gameId</th>\n",
       "      <th>0</th>\n",
       "      <th>1</th>\n",
       "      <th>2</th>\n",
       "      <th>3</th>\n",
       "      <th>4</th>\n",
       "      <th>5</th>\n",
       "      <th>6</th>\n",
       "      <th>7</th>\n",
       "      <th>8</th>\n",
       "      <th>9</th>\n",
       "    </tr>\n",
       "  </thead>\n",
       "  <tbody>\n",
       "    <tr>\n",
       "      <th>0</th>\n",
       "      <td>3.190375e+09</td>\n",
       "      <td>[2055, 3401, 2423, 3024, 3801, 3117, 3364]</td>\n",
       "      <td>[3040, 2031, 3285, 3158, 2055, 0, 3340]</td>\n",
       "      <td>[2065, 2423, 2033, 3009, 3027, 1082, 3340]</td>\n",
       "      <td>[3047, 3800, 1413, 2055, 0, 0, 3364]</td>\n",
       "      <td>[1055, 3006, 2421, 3031, 1042, 1042, 3340]</td>\n",
       "      <td>[2421, 2031, 3096, 3117, 1028, 0, 3364]</td>\n",
       "      <td>[3057, 3111, 3044, 1042, 1036, 1036, 3340]</td>\n",
       "      <td>[0, 3070, 0, 3070, 3070, 3070, 0]</td>\n",
       "      <td>[1055, 2031, 3006, 3133, 1018, 1042, 3340]</td>\n",
       "      <td>[1412, 2031, 3117, 3134, 0, 0, 3364]</td>\n",
       "    </tr>\n",
       "    <tr>\n",
       "      <th>1</th>\n",
       "      <td>3.191354e+09</td>\n",
       "      <td>[3097, 3157, 0, 3020, 3116, 1082, 3364]</td>\n",
       "      <td>[3092, 2031, 3285, 3020, 2055, 0, 3364]</td>\n",
       "      <td>[3077, 3047, 1400, 1011, 1028, 3044, 3364]</td>\n",
       "      <td>[3003, 2420, 3020, 3027, 1054, 0, 3363]</td>\n",
       "      <td>[2033, 3800, 2065, 1026, 3047, 1082, 3340]</td>\n",
       "      <td>[2031, 1052, 3146, 3108, 3916, 3020, 3364]</td>\n",
       "      <td>[1055, 1083, 3006, 3046, 3031, 0, 3340]</td>\n",
       "      <td>[2055, 3050, 3092, 0, 0, 2422, 3364]</td>\n",
       "      <td>[0, 1055, 0, 3085, 3124, 3006, 3363]</td>\n",
       "      <td>[1412, 2031, 1031, 3111, 3071, 0, 3364]</td>\n",
       "    </tr>\n",
       "    <tr>\n",
       "      <th>2</th>\n",
       "      <td>3.191955e+09</td>\n",
       "      <td>[2033, 3194, 3075, 1082, 3047, 3151, 3340]</td>\n",
       "      <td>[3092, 3504, 3190, 3117, 0, 0, 3364]</td>\n",
       "      <td>[3153, 3140, 3070, 3042, 3025, 3158, 3363]</td>\n",
       "      <td>[1413, 1029, 3742, 3026, 3190, 3111, 3364]</td>\n",
       "      <td>[2033, 3157, 3152, 3100, 1082, 3158, 3364]</td>\n",
       "      <td>[1056, 2031, 3006, 3124, 3085, 3812, 3363]</td>\n",
       "      <td>[3074, 3078, 3111, 1055, 3065, 3133, 3340]</td>\n",
       "      <td>[3190, 3401, 3109, 3047, 1033, 2055, 3364]</td>\n",
       "      <td>[3040, 3157, 3135, 1054, 3027, 3111, 3364]</td>\n",
       "      <td>[3800, 3742, 3047, 3067, 1401, 1011, 3364]</td>\n",
       "    </tr>\n",
       "    <tr>\n",
       "      <th>3</th>\n",
       "      <td>3.221805e+09</td>\n",
       "      <td>[3098, 3050, 2055, 3801, 3117, 3114, 3364]</td>\n",
       "      <td>[2065, 3504, 2055, 3285, 1056, 2422, 3363]</td>\n",
       "      <td>[3117, 2031, 2055, 3078, 1412, 3052, 3340]</td>\n",
       "      <td>[3040, 2033, 3041, 3102, 3136, 1026, 3364]</td>\n",
       "      <td>[3144, 0, 1055, 3078, 3042, 3158, 3340]</td>\n",
       "      <td>[2031, 3508, 3006, 3094, 0, 1054, 3363]</td>\n",
       "      <td>[2031, 3057, 3044, 1042, 3047, 1412, 3364]</td>\n",
       "      <td>[3285, 1056, 3020, 3916, 1082, 1026, 3340]</td>\n",
       "      <td>[2031, 0, 0, 3022, 3071, 3111, 3340]</td>\n",
       "      <td>[2055, 3050, 3097, 2423, 0, 3117, 3364]</td>\n",
       "    </tr>\n",
       "    <tr>\n",
       "      <th>4</th>\n",
       "      <td>3.227523e+09</td>\n",
       "      <td>[2031, 3191, 3040, 3165, 3027, 3111, 3363]</td>\n",
       "      <td>[0, 3098, 3117, 3504, 3174, 3114, 3364]</td>\n",
       "      <td>[3153, 3031, 3094, 1055, 3047, 3071, 3363]</td>\n",
       "      <td>[0, 3026, 1412, 3078, 1028, 3047, 3364]</td>\n",
       "      <td>[3060, 2065, 3109, 3116, 3151, 3047, 3363]</td>\n",
       "      <td>[1056, 3157, 0, 3285, 3020, 3089, 3363]</td>\n",
       "      <td>[2055, 3071, 3047, 3095, 1412, 0, 3364]</td>\n",
       "      <td>[3111, 2055, 3401, 3067, 1031, 3050, 3364]</td>\n",
       "      <td>[3060, 3800, 2421, 3052, 3071, 3111, 3364]</td>\n",
       "      <td>[3033, 1054, 3047, 3072, 3095, 3086, 3363]</td>\n",
       "    </tr>\n",
       "    <tr>\n",
       "      <th>...</th>\n",
       "      <td>...</td>\n",
       "      <td>...</td>\n",
       "      <td>...</td>\n",
       "      <td>...</td>\n",
       "      <td>...</td>\n",
       "      <td>...</td>\n",
       "      <td>...</td>\n",
       "      <td>...</td>\n",
       "      <td>...</td>\n",
       "      <td>...</td>\n",
       "      <td>...</td>\n",
       "    </tr>\n",
       "    <tr>\n",
       "      <th>87891</th>\n",
       "      <td>4.260971e+09</td>\n",
       "      <td>[2421, 3373, 3083, 1031, 3111, 3379, 3363]</td>\n",
       "      <td>[3800, 3065, 3067, 2055, 1401, 3009, 3364]</td>\n",
       "      <td>[3389, 3071, 2421, 3091, 3111, 3156, 3340]</td>\n",
       "      <td>[3857, 2055, 3140, 3107, 3009, 3190, 3364]</td>\n",
       "      <td>[3389, 3156, 3006, 3123, 3085, 3072, 3363]</td>\n",
       "      <td>[1402, 3135, 3151, 2421, 3089, 3020, 3363]</td>\n",
       "      <td>[3179, 3864, 2055, 3814, 3006, 3033, 3364]</td>\n",
       "      <td>[2421, 3742, 3111, 0, 3076, 1031, 3364]</td>\n",
       "      <td>[3285, 3157, 3135, 3020, 3089, 0, 3363]</td>\n",
       "      <td>[3071, 3047, 3026, 2055, 3812, 3123, 3340]</td>\n",
       "    </tr>\n",
       "    <tr>\n",
       "      <th>87892</th>\n",
       "      <td>4.260996e+09</td>\n",
       "      <td>[2033, 3142, 3134, 3009, 3179, 0, 3363]</td>\n",
       "      <td>[3193, 3857, 2055, 1028, 0, 3117, 3364]</td>\n",
       "      <td>[1412, 2031, 2055, 3047, 3067, 3044, 3340]</td>\n",
       "      <td>[2033, 3152, 1056, 3020, 1082, 3108, 3364]</td>\n",
       "      <td>[3076, 2031, 0, 3068, 3047, 1056, 3364]</td>\n",
       "      <td>[3044, 3009, 3052, 3812, 1028, 1055, 3364]</td>\n",
       "      <td>[3860, 3050, 0, 1028, 0, 3117, 3364]</td>\n",
       "      <td>[1026, 3285, 3020, 1082, 3108, 3916, 3364]</td>\n",
       "      <td>[1055, 3031, 0, 1083, 3006, 3085, 3363]</td>\n",
       "      <td>[1413, 3109, 0, 3111, 2421, 3024, 3513]</td>\n",
       "    </tr>\n",
       "    <tr>\n",
       "      <th>87893</th>\n",
       "      <td>4.261002e+09</td>\n",
       "      <td>[2421, 3140, 3031, 3046, 3006, 3022, 3364]</td>\n",
       "      <td>[0, 3193, 3800, 1011, 3116, 3111, 3340]</td>\n",
       "      <td>[3153, 3140, 1053, 3078, 3042, 3158, 3363]</td>\n",
       "      <td>[3020, 1026, 3853, 2055, 3151, 0, 3363]</td>\n",
       "      <td>[1057, 0, 3194, 3742, 1401, 3111, 3364]</td>\n",
       "      <td>[3042, 3140, 3371, 3006, 3085, 3124, 3363]</td>\n",
       "      <td>[3388, 3071, 3053, 3033, 2421, 3047, 3340]</td>\n",
       "      <td>[1402, 3386, 3165, 3020, 3135, 1058, 3364]</td>\n",
       "      <td>[0, 3190, 3107, 3860, 3067, 3117, 3364]</td>\n",
       "      <td>[2420, 1031, 3047, 3379, 3373, 3025, 3340]</td>\n",
       "    </tr>\n",
       "    <tr>\n",
       "      <th>87894</th>\n",
       "      <td>4.261012e+09</td>\n",
       "      <td>[1055, 3071, 3812, 0, 3047, 0, 3364]</td>\n",
       "      <td>[2055, 2065, 3857, 2424, 1031, 3009, 3364]</td>\n",
       "      <td>[3115, 3006, 3042, 3124, 1055, 0, 3364]</td>\n",
       "      <td>[2031, 2055, 3165, 1082, 3020, 1402, 3364]</td>\n",
       "      <td>[3142, 1036, 3077, 3009, 3067, 3147, 3364]</td>\n",
       "      <td>[3860, 3800, 3067, 3117, 1029, 2055, 3364]</td>\n",
       "      <td>[3165, 3157, 0, 3020, 1054, 1026, 3340]</td>\n",
       "      <td>[3031, 3072, 0, 3508, 0, 3006, 3363]</td>\n",
       "      <td>[3193, 0, 1029, 1413, 3067, 3047, 3364]</td>\n",
       "      <td>[3052, 2421, 3074, 3123, 3078, 3047, 3340]</td>\n",
       "    </tr>\n",
       "    <tr>\n",
       "      <th>87895</th>\n",
       "      <td>4.261013e+09</td>\n",
       "      <td>[3508, 3006, 3086, 1055, 2015, 0, 3364]</td>\n",
       "      <td>[3800, 1033, 1029, 3857, 3117, 0, 3364]</td>\n",
       "      <td>[3152, 3047, 3108, 3191, 1033, 3076, 3340]</td>\n",
       "      <td>[3100, 2031, 1052, 3020, 1402, 3041, 3363]</td>\n",
       "      <td>[3142, 0, 2033, 3117, 3147, 3814, 3364]</td>\n",
       "      <td>[1055, 3115, 1052, 3042, 3124, 3006, 3363]</td>\n",
       "      <td>[3860, 3801, 0, 3158, 3174, 3114, 3364]</td>\n",
       "      <td>[3077, 3142, 1036, 3179, 3117, 3147, 3364]</td>\n",
       "      <td>[1402, 3157, 3165, 3041, 3020, 1052, 3363]</td>\n",
       "      <td>[3153, 2033, 3091, 3044, 3067, 3111, 3340]</td>\n",
       "    </tr>\n",
       "  </tbody>\n",
       "</table>\n",
       "<p>87896 rows × 11 columns</p>\n",
       "</div>"
      ],
      "text/plain": [
       "             gameId                                           0  \\\n",
       "0      3.190375e+09  [2055, 3401, 2423, 3024, 3801, 3117, 3364]   \n",
       "1      3.191354e+09     [3097, 3157, 0, 3020, 3116, 1082, 3364]   \n",
       "2      3.191955e+09  [2033, 3194, 3075, 1082, 3047, 3151, 3340]   \n",
       "3      3.221805e+09  [3098, 3050, 2055, 3801, 3117, 3114, 3364]   \n",
       "4      3.227523e+09  [2031, 3191, 3040, 3165, 3027, 3111, 3363]   \n",
       "...             ...                                         ...   \n",
       "87891  4.260971e+09  [2421, 3373, 3083, 1031, 3111, 3379, 3363]   \n",
       "87892  4.260996e+09     [2033, 3142, 3134, 3009, 3179, 0, 3363]   \n",
       "87893  4.261002e+09  [2421, 3140, 3031, 3046, 3006, 3022, 3364]   \n",
       "87894  4.261012e+09        [1055, 3071, 3812, 0, 3047, 0, 3364]   \n",
       "87895  4.261013e+09     [3508, 3006, 3086, 1055, 2015, 0, 3364]   \n",
       "\n",
       "                                                1  \\\n",
       "0         [3040, 2031, 3285, 3158, 2055, 0, 3340]   \n",
       "1         [3092, 2031, 3285, 3020, 2055, 0, 3364]   \n",
       "2            [3092, 3504, 3190, 3117, 0, 0, 3364]   \n",
       "3      [2065, 3504, 2055, 3285, 1056, 2422, 3363]   \n",
       "4         [0, 3098, 3117, 3504, 3174, 3114, 3364]   \n",
       "...                                           ...   \n",
       "87891  [3800, 3065, 3067, 2055, 1401, 3009, 3364]   \n",
       "87892     [3193, 3857, 2055, 1028, 0, 3117, 3364]   \n",
       "87893     [0, 3193, 3800, 1011, 3116, 3111, 3340]   \n",
       "87894  [2055, 2065, 3857, 2424, 1031, 3009, 3364]   \n",
       "87895     [3800, 1033, 1029, 3857, 3117, 0, 3364]   \n",
       "\n",
       "                                                2  \\\n",
       "0      [2065, 2423, 2033, 3009, 3027, 1082, 3340]   \n",
       "1      [3077, 3047, 1400, 1011, 1028, 3044, 3364]   \n",
       "2      [3153, 3140, 3070, 3042, 3025, 3158, 3363]   \n",
       "3      [3117, 2031, 2055, 3078, 1412, 3052, 3340]   \n",
       "4      [3153, 3031, 3094, 1055, 3047, 3071, 3363]   \n",
       "...                                           ...   \n",
       "87891  [3389, 3071, 2421, 3091, 3111, 3156, 3340]   \n",
       "87892  [1412, 2031, 2055, 3047, 3067, 3044, 3340]   \n",
       "87893  [3153, 3140, 1053, 3078, 3042, 3158, 3363]   \n",
       "87894     [3115, 3006, 3042, 3124, 1055, 0, 3364]   \n",
       "87895  [3152, 3047, 3108, 3191, 1033, 3076, 3340]   \n",
       "\n",
       "                                                3  \\\n",
       "0            [3047, 3800, 1413, 2055, 0, 0, 3364]   \n",
       "1         [3003, 2420, 3020, 3027, 1054, 0, 3363]   \n",
       "2      [1413, 1029, 3742, 3026, 3190, 3111, 3364]   \n",
       "3      [3040, 2033, 3041, 3102, 3136, 1026, 3364]   \n",
       "4         [0, 3026, 1412, 3078, 1028, 3047, 3364]   \n",
       "...                                           ...   \n",
       "87891  [3857, 2055, 3140, 3107, 3009, 3190, 3364]   \n",
       "87892  [2033, 3152, 1056, 3020, 1082, 3108, 3364]   \n",
       "87893     [3020, 1026, 3853, 2055, 3151, 0, 3363]   \n",
       "87894  [2031, 2055, 3165, 1082, 3020, 1402, 3364]   \n",
       "87895  [3100, 2031, 1052, 3020, 1402, 3041, 3363]   \n",
       "\n",
       "                                                4  \\\n",
       "0      [1055, 3006, 2421, 3031, 1042, 1042, 3340]   \n",
       "1      [2033, 3800, 2065, 1026, 3047, 1082, 3340]   \n",
       "2      [2033, 3157, 3152, 3100, 1082, 3158, 3364]   \n",
       "3         [3144, 0, 1055, 3078, 3042, 3158, 3340]   \n",
       "4      [3060, 2065, 3109, 3116, 3151, 3047, 3363]   \n",
       "...                                           ...   \n",
       "87891  [3389, 3156, 3006, 3123, 3085, 3072, 3363]   \n",
       "87892     [3076, 2031, 0, 3068, 3047, 1056, 3364]   \n",
       "87893     [1057, 0, 3194, 3742, 1401, 3111, 3364]   \n",
       "87894  [3142, 1036, 3077, 3009, 3067, 3147, 3364]   \n",
       "87895     [3142, 0, 2033, 3117, 3147, 3814, 3364]   \n",
       "\n",
       "                                                5  \\\n",
       "0         [2421, 2031, 3096, 3117, 1028, 0, 3364]   \n",
       "1      [2031, 1052, 3146, 3108, 3916, 3020, 3364]   \n",
       "2      [1056, 2031, 3006, 3124, 3085, 3812, 3363]   \n",
       "3         [2031, 3508, 3006, 3094, 0, 1054, 3363]   \n",
       "4         [1056, 3157, 0, 3285, 3020, 3089, 3363]   \n",
       "...                                           ...   \n",
       "87891  [1402, 3135, 3151, 2421, 3089, 3020, 3363]   \n",
       "87892  [3044, 3009, 3052, 3812, 1028, 1055, 3364]   \n",
       "87893  [3042, 3140, 3371, 3006, 3085, 3124, 3363]   \n",
       "87894  [3860, 3800, 3067, 3117, 1029, 2055, 3364]   \n",
       "87895  [1055, 3115, 1052, 3042, 3124, 3006, 3363]   \n",
       "\n",
       "                                                6  \\\n",
       "0      [3057, 3111, 3044, 1042, 1036, 1036, 3340]   \n",
       "1         [1055, 1083, 3006, 3046, 3031, 0, 3340]   \n",
       "2      [3074, 3078, 3111, 1055, 3065, 3133, 3340]   \n",
       "3      [2031, 3057, 3044, 1042, 3047, 1412, 3364]   \n",
       "4         [2055, 3071, 3047, 3095, 1412, 0, 3364]   \n",
       "...                                           ...   \n",
       "87891  [3179, 3864, 2055, 3814, 3006, 3033, 3364]   \n",
       "87892        [3860, 3050, 0, 1028, 0, 3117, 3364]   \n",
       "87893  [3388, 3071, 3053, 3033, 2421, 3047, 3340]   \n",
       "87894     [3165, 3157, 0, 3020, 1054, 1026, 3340]   \n",
       "87895     [3860, 3801, 0, 3158, 3174, 3114, 3364]   \n",
       "\n",
       "                                                7  \\\n",
       "0               [0, 3070, 0, 3070, 3070, 3070, 0]   \n",
       "1            [2055, 3050, 3092, 0, 0, 2422, 3364]   \n",
       "2      [3190, 3401, 3109, 3047, 1033, 2055, 3364]   \n",
       "3      [3285, 1056, 3020, 3916, 1082, 1026, 3340]   \n",
       "4      [3111, 2055, 3401, 3067, 1031, 3050, 3364]   \n",
       "...                                           ...   \n",
       "87891     [2421, 3742, 3111, 0, 3076, 1031, 3364]   \n",
       "87892  [1026, 3285, 3020, 1082, 3108, 3916, 3364]   \n",
       "87893  [1402, 3386, 3165, 3020, 3135, 1058, 3364]   \n",
       "87894        [3031, 3072, 0, 3508, 0, 3006, 3363]   \n",
       "87895  [3077, 3142, 1036, 3179, 3117, 3147, 3364]   \n",
       "\n",
       "                                                8  \\\n",
       "0      [1055, 2031, 3006, 3133, 1018, 1042, 3340]   \n",
       "1            [0, 1055, 0, 3085, 3124, 3006, 3363]   \n",
       "2      [3040, 3157, 3135, 1054, 3027, 3111, 3364]   \n",
       "3            [2031, 0, 0, 3022, 3071, 3111, 3340]   \n",
       "4      [3060, 3800, 2421, 3052, 3071, 3111, 3364]   \n",
       "...                                           ...   \n",
       "87891     [3285, 3157, 3135, 3020, 3089, 0, 3363]   \n",
       "87892     [1055, 3031, 0, 1083, 3006, 3085, 3363]   \n",
       "87893     [0, 3190, 3107, 3860, 3067, 3117, 3364]   \n",
       "87894     [3193, 0, 1029, 1413, 3067, 3047, 3364]   \n",
       "87895  [1402, 3157, 3165, 3041, 3020, 1052, 3363]   \n",
       "\n",
       "                                                9  \n",
       "0            [1412, 2031, 3117, 3134, 0, 0, 3364]  \n",
       "1         [1412, 2031, 1031, 3111, 3071, 0, 3364]  \n",
       "2      [3800, 3742, 3047, 3067, 1401, 1011, 3364]  \n",
       "3         [2055, 3050, 3097, 2423, 0, 3117, 3364]  \n",
       "4      [3033, 1054, 3047, 3072, 3095, 3086, 3363]  \n",
       "...                                           ...  \n",
       "87891  [3071, 3047, 3026, 2055, 3812, 3123, 3340]  \n",
       "87892     [1413, 3109, 0, 3111, 2421, 3024, 3513]  \n",
       "87893  [2420, 1031, 3047, 3379, 3373, 3025, 3340]  \n",
       "87894  [3052, 2421, 3074, 3123, 3078, 3047, 3340]  \n",
       "87895  [3153, 2033, 3091, 3044, 3067, 3111, 3340]  \n",
       "\n",
       "[87896 rows x 11 columns]"
      ]
     },
     "execution_count": 94,
     "metadata": {},
     "output_type": "execute_result"
    }
   ],
   "source": [
    "df_items"
   ]
  },
  {
   "cell_type": "code",
   "execution_count": 95,
   "id": "bec66712",
   "metadata": {},
   "outputs": [],
   "source": [
    "df_items.gameId = df_items.gameId.astype(int)"
   ]
  },
  {
   "cell_type": "code",
   "execution_count": 96,
   "id": "743a104c",
   "metadata": {},
   "outputs": [],
   "source": [
    "for i in range(len(df_items)):\n",
    "    cur.execute(items_table_insert, df_items[df_items.columns].values[i].tolist())\n",
    "    conn.commit()"
   ]
  },
  {
   "cell_type": "code",
   "execution_count": 97,
   "id": "0ea2fb3f",
   "metadata": {},
   "outputs": [
    {
     "data": {
      "text/plain": [
       "[(4201095237,\n",
       "  [0, 3748, 2055, 1055, 3047, 3071, 3340],\n",
       "  [1082, 3030, 2033, 3111, 3165, 0, 3364],\n",
       "  [1412, 3071, 0, 3047, 1028, 1028, 3364],\n",
       "  [3031, 3046, 3139, 3026, 1055, 3006, 3340],\n",
       "  [3853, 3801, 3174, 3504, 3117, 3114, 3364],\n",
       "  [1029, 3748, 3071, 3047, 2055, 0, 3340],\n",
       "  [1401, 3020, 2421, 3108, 0, 3165, 3364],\n",
       "  [2033, 1026, 0, 3285, 1082, 3020, 3340],\n",
       "  [3508, 3031, 0, 1055, 1055, 1001, 3363],\n",
       "  [0, 3179, 3117, 3857, 2055, 3814, 3364]),\n",
       " (4201096497,\n",
       "  [3031, 3508, 3086, 3140, 1055, 3006, 3363],\n",
       "  [3153, 3139, 3006, 1038, 3071, 3133, 3363],\n",
       "  [1400, 3026, 0, 3047, 1036, 3071, 3364],\n",
       "  [3089, 3041, 2421, 3285, 3165, 3020, 3340],\n",
       "  [3853, 3107, 3190, 2055, 3108, 3117, 3364],\n",
       "  [2033, 3285, 3102, 3020, 3089, 0, 3363],\n",
       "  [0, 3152, 3157, 1026, 3136, 3047, 3340],\n",
       "  [1412, 2421, 2055, 3047, 3052, 3071, 3364],\n",
       "  [3508, 3140, 3085, 1038, 1037, 3006, 3363],\n",
       "  [3860, 3800, 0, 0, 0, 3117, 3364]),\n",
       " (4201102610,\n",
       "  [3179, 3864, 2055, 3009, 3123, 1036, 3364],\n",
       "  [3157, 3152, 2033, 1028, 1082, 3020, 3340],\n",
       "  [1055, 3094, 3031, 1036, 3006, 0, 3363],\n",
       "  [2033, 1036, 3078, 3047, 3071, 0, 3340],\n",
       "  [0, 1082, 3157, 3025, 1414, 3047, 3364],\n",
       "  [3077, 1054, 3026, 3047, 3071, 3052, 3364],\n",
       "  [3026, 3078, 3123, 1412, 3053, 3111, 3364],\n",
       "  [3857, 3193, 2055, 3067, 3024, 3117, 3364],\n",
       "  [1055, 3085, 3153, 3006, 1038, 1037, 3363],\n",
       "  [3156, 3071, 3133, 1054, 1036, 3047, 3340])]"
      ]
     },
     "execution_count": 97,
     "metadata": {},
     "output_type": "execute_result"
    }
   ],
   "source": [
    "cur.execute(\"\"\"SELECT * FROM items limit 3\"\"\")\n",
    "cur.fetchall()"
   ]
  },
  {
   "cell_type": "markdown",
   "id": "0a28f7eb",
   "metadata": {},
   "source": [
    "<h1> #3: objectives_visions table </h1>"
   ]
  },
  {
   "cell_type": "code",
   "execution_count": 98,
   "id": "0214f1ad",
   "metadata": {},
   "outputs": [],
   "source": [
    "win_badra= winner_df[['baronKills', 'dragonKills', 'gameId']].rename(columns = {'baronKills' : 'winbaronKills','dragonKills': 'windragonKills' })\n",
    "lose_badra= loser_df[['baronKills', 'dragonKills', 'gameId']].rename(columns = {'baronKills' : 'losebaronKills','dragonKills': 'losedragonKills' })"
   ]
  },
  {
   "cell_type": "code",
   "execution_count": 99,
   "id": "7eea074b",
   "metadata": {},
   "outputs": [],
   "source": [
    "badra = pd.merge( win_badra, lose_badra, on=['gameId'], how = 'inner') \n"
   ]
  },
  {
   "cell_type": "code",
   "execution_count": 100,
   "id": "17165906",
   "metadata": {},
   "outputs": [],
   "source": [
    "badra = badra.groupby('gameId').mean()\n"
   ]
  },
  {
   "cell_type": "code",
   "execution_count": 101,
   "id": "5f7ddcc4",
   "metadata": {},
   "outputs": [],
   "source": [
    "col = ['stats.win','stats.wardsPlaced' , 'stats.wardsKilled', 'gameId','participantId' ]\n",
    "df_ov = df[col]\n",
    "\n"
   ]
  },
  {
   "cell_type": "code",
   "execution_count": 102,
   "id": "c967ac2d",
   "metadata": {},
   "outputs": [],
   "source": [
    "df_false = df_ov[df_ov['stats.win'] == False]\n",
    "df_true = df_ov[df_ov['stats.win'] == True]\n",
    "\n"
   ]
  },
  {
   "cell_type": "code",
   "execution_count": 103,
   "id": "a621dee8",
   "metadata": {},
   "outputs": [],
   "source": [
    "lwp = df_false.groupby('gameId')['stats.wardsPlaced'].sum().to_frame().reset_index()\n",
    "wwp = df_true.groupby('gameId')['stats.wardsPlaced'].sum().to_frame().reset_index()\n",
    "lwk = df_false.groupby('gameId')['stats.wardsKilled'].sum().to_frame().reset_index()\n",
    "wwk = df_true.groupby('gameId')['stats.wardsKilled'].sum().to_frame().reset_index()"
   ]
  },
  {
   "cell_type": "code",
   "execution_count": 105,
   "id": "653905f5",
   "metadata": {},
   "outputs": [],
   "source": [
    "from functools import reduce \n",
    "\n"
   ]
  },
  {
   "cell_type": "code",
   "execution_count": 108,
   "id": "d720a24c",
   "metadata": {},
   "outputs": [],
   "source": [
    "data_list = [lwp,wwp,lwk, wwk, a]\n",
    "\n"
   ]
  },
  {
   "cell_type": "code",
   "execution_count": 109,
   "id": "f449bf4d",
   "metadata": {},
   "outputs": [],
   "source": [
    "data_merge = reduce(lambda left, right:     # Merge DataFrames in list\n",
    "                     pd.merge(left , right,\n",
    "                              on = [\"gameId\"],\n",
    "                              how = \"inner\"),\n",
    "                     data_list)\n"
   ]
  },
  {
   "cell_type": "code",
   "execution_count": 110,
   "id": "b8ae0141",
   "metadata": {
    "scrolled": true
   },
   "outputs": [],
   "source": [
    "data_merge = pd.merge( data_merge, badra, on=['gameId'], how = 'inner').drop(columns =['participants'] )"
   ]
  },
  {
   "cell_type": "code",
   "execution_count": 111,
   "id": "46dcbd8d",
   "metadata": {},
   "outputs": [
    {
     "data": {
      "text/html": [
       "<div>\n",
       "<style scoped>\n",
       "    .dataframe tbody tr th:only-of-type {\n",
       "        vertical-align: middle;\n",
       "    }\n",
       "\n",
       "    .dataframe tbody tr th {\n",
       "        vertical-align: top;\n",
       "    }\n",
       "\n",
       "    .dataframe thead th {\n",
       "        text-align: right;\n",
       "    }\n",
       "</style>\n",
       "<table border=\"1\" class=\"dataframe\">\n",
       "  <thead>\n",
       "    <tr style=\"text-align: right;\">\n",
       "      <th></th>\n",
       "      <th>gameId</th>\n",
       "      <th>stats.wardsPlaced_x</th>\n",
       "      <th>stats.wardsPlaced_y</th>\n",
       "      <th>stats.wardsKilled_x</th>\n",
       "      <th>stats.wardsKilled_y</th>\n",
       "      <th>winbaronKills</th>\n",
       "      <th>windragonKills</th>\n",
       "      <th>losebaronKills</th>\n",
       "      <th>losedragonKills</th>\n",
       "    </tr>\n",
       "  </thead>\n",
       "  <tbody>\n",
       "    <tr>\n",
       "      <th>0</th>\n",
       "      <td>3.190375e+09</td>\n",
       "      <td>26.0</td>\n",
       "      <td>33.0</td>\n",
       "      <td>3.0</td>\n",
       "      <td>5.0</td>\n",
       "      <td>0.0</td>\n",
       "      <td>0.0</td>\n",
       "      <td>0.0</td>\n",
       "      <td>1.0</td>\n",
       "    </tr>\n",
       "    <tr>\n",
       "      <th>1</th>\n",
       "      <td>3.191354e+09</td>\n",
       "      <td>59.0</td>\n",
       "      <td>70.0</td>\n",
       "      <td>17.0</td>\n",
       "      <td>23.0</td>\n",
       "      <td>0.0</td>\n",
       "      <td>0.0</td>\n",
       "      <td>1.0</td>\n",
       "      <td>2.0</td>\n",
       "    </tr>\n",
       "    <tr>\n",
       "      <th>2</th>\n",
       "      <td>3.191955e+09</td>\n",
       "      <td>66.0</td>\n",
       "      <td>79.0</td>\n",
       "      <td>21.0</td>\n",
       "      <td>21.0</td>\n",
       "      <td>0.0</td>\n",
       "      <td>0.0</td>\n",
       "      <td>1.0</td>\n",
       "      <td>3.0</td>\n",
       "    </tr>\n",
       "    <tr>\n",
       "      <th>3</th>\n",
       "      <td>3.221805e+09</td>\n",
       "      <td>46.0</td>\n",
       "      <td>51.0</td>\n",
       "      <td>10.0</td>\n",
       "      <td>9.0</td>\n",
       "      <td>0.0</td>\n",
       "      <td>1.0</td>\n",
       "      <td>1.0</td>\n",
       "      <td>1.0</td>\n",
       "    </tr>\n",
       "    <tr>\n",
       "      <th>4</th>\n",
       "      <td>3.227523e+09</td>\n",
       "      <td>81.0</td>\n",
       "      <td>90.0</td>\n",
       "      <td>30.0</td>\n",
       "      <td>33.0</td>\n",
       "      <td>1.0</td>\n",
       "      <td>1.0</td>\n",
       "      <td>1.0</td>\n",
       "      <td>2.0</td>\n",
       "    </tr>\n",
       "    <tr>\n",
       "      <th>...</th>\n",
       "      <td>...</td>\n",
       "      <td>...</td>\n",
       "      <td>...</td>\n",
       "      <td>...</td>\n",
       "      <td>...</td>\n",
       "      <td>...</td>\n",
       "      <td>...</td>\n",
       "      <td>...</td>\n",
       "      <td>...</td>\n",
       "    </tr>\n",
       "    <tr>\n",
       "      <th>87891</th>\n",
       "      <td>4.260971e+09</td>\n",
       "      <td>98.0</td>\n",
       "      <td>95.0</td>\n",
       "      <td>46.0</td>\n",
       "      <td>38.0</td>\n",
       "      <td>0.0</td>\n",
       "      <td>4.0</td>\n",
       "      <td>1.0</td>\n",
       "      <td>0.0</td>\n",
       "    </tr>\n",
       "    <tr>\n",
       "      <th>87892</th>\n",
       "      <td>4.260996e+09</td>\n",
       "      <td>53.0</td>\n",
       "      <td>56.0</td>\n",
       "      <td>30.0</td>\n",
       "      <td>22.0</td>\n",
       "      <td>0.0</td>\n",
       "      <td>0.0</td>\n",
       "      <td>0.0</td>\n",
       "      <td>3.0</td>\n",
       "    </tr>\n",
       "    <tr>\n",
       "      <th>87893</th>\n",
       "      <td>4.261002e+09</td>\n",
       "      <td>109.0</td>\n",
       "      <td>155.0</td>\n",
       "      <td>69.0</td>\n",
       "      <td>51.0</td>\n",
       "      <td>0.0</td>\n",
       "      <td>2.0</td>\n",
       "      <td>2.0</td>\n",
       "      <td>4.0</td>\n",
       "    </tr>\n",
       "    <tr>\n",
       "      <th>87894</th>\n",
       "      <td>4.261012e+09</td>\n",
       "      <td>52.0</td>\n",
       "      <td>83.0</td>\n",
       "      <td>26.0</td>\n",
       "      <td>15.0</td>\n",
       "      <td>0.0</td>\n",
       "      <td>0.0</td>\n",
       "      <td>1.0</td>\n",
       "      <td>3.0</td>\n",
       "    </tr>\n",
       "    <tr>\n",
       "      <th>87895</th>\n",
       "      <td>4.261013e+09</td>\n",
       "      <td>47.0</td>\n",
       "      <td>75.0</td>\n",
       "      <td>21.0</td>\n",
       "      <td>20.0</td>\n",
       "      <td>0.0</td>\n",
       "      <td>0.0</td>\n",
       "      <td>0.0</td>\n",
       "      <td>4.0</td>\n",
       "    </tr>\n",
       "  </tbody>\n",
       "</table>\n",
       "<p>87896 rows × 9 columns</p>\n",
       "</div>"
      ],
      "text/plain": [
       "             gameId  stats.wardsPlaced_x  stats.wardsPlaced_y  \\\n",
       "0      3.190375e+09                 26.0                 33.0   \n",
       "1      3.191354e+09                 59.0                 70.0   \n",
       "2      3.191955e+09                 66.0                 79.0   \n",
       "3      3.221805e+09                 46.0                 51.0   \n",
       "4      3.227523e+09                 81.0                 90.0   \n",
       "...             ...                  ...                  ...   \n",
       "87891  4.260971e+09                 98.0                 95.0   \n",
       "87892  4.260996e+09                 53.0                 56.0   \n",
       "87893  4.261002e+09                109.0                155.0   \n",
       "87894  4.261012e+09                 52.0                 83.0   \n",
       "87895  4.261013e+09                 47.0                 75.0   \n",
       "\n",
       "       stats.wardsKilled_x  stats.wardsKilled_y  winbaronKills  \\\n",
       "0                      3.0                  5.0            0.0   \n",
       "1                     17.0                 23.0            0.0   \n",
       "2                     21.0                 21.0            0.0   \n",
       "3                     10.0                  9.0            0.0   \n",
       "4                     30.0                 33.0            1.0   \n",
       "...                    ...                  ...            ...   \n",
       "87891                 46.0                 38.0            0.0   \n",
       "87892                 30.0                 22.0            0.0   \n",
       "87893                 69.0                 51.0            0.0   \n",
       "87894                 26.0                 15.0            0.0   \n",
       "87895                 21.0                 20.0            0.0   \n",
       "\n",
       "       windragonKills  losebaronKills  losedragonKills  \n",
       "0                 0.0             0.0              1.0  \n",
       "1                 0.0             1.0              2.0  \n",
       "2                 0.0             1.0              3.0  \n",
       "3                 1.0             1.0              1.0  \n",
       "4                 1.0             1.0              2.0  \n",
       "...               ...             ...              ...  \n",
       "87891             4.0             1.0              0.0  \n",
       "87892             0.0             0.0              3.0  \n",
       "87893             2.0             2.0              4.0  \n",
       "87894             0.0             1.0              3.0  \n",
       "87895             0.0             0.0              4.0  \n",
       "\n",
       "[87896 rows x 9 columns]"
      ]
     },
     "execution_count": 111,
     "metadata": {},
     "output_type": "execute_result"
    }
   ],
   "source": [
    "data_merge"
   ]
  },
  {
   "cell_type": "code",
   "execution_count": 112,
   "id": "baec4fe0",
   "metadata": {},
   "outputs": [],
   "source": [
    "data_merge['win_baron_nashor'] = np.where(data_merge['winbaronKills'] > 0 , True, False)\n",
    "data_merge['win_dragon_soul'] = np.where(data_merge['windragonKills'] >= 4 , True, False)\n",
    "data_merge['lose_baron_nashor'] = np.where(data_merge['losebaronKills'] > 0 , True, False)\n",
    "data_merge['lose_dragon_soul'] = np.where(data_merge['losedragonKills'] > 0 , True, False)"
   ]
  },
  {
   "cell_type": "code",
   "execution_count": 117,
   "id": "da0287b2",
   "metadata": {},
   "outputs": [],
   "source": [
    "data_merge = data_merge.drop(columns =['winbaronKills', 'losebaronKills', 'windragonKills', 'losedragonKills' ])"
   ]
  },
  {
   "cell_type": "code",
   "execution_count": 118,
   "id": "efa6563a",
   "metadata": {},
   "outputs": [
    {
     "name": "stdout",
     "output_type": "stream",
     "text": [
      "<class 'pandas.core.frame.DataFrame'>\n",
      "Int64Index: 87896 entries, 0 to 87895\n",
      "Data columns (total 9 columns):\n",
      " #   Column               Non-Null Count  Dtype  \n",
      "---  ------               --------------  -----  \n",
      " 0   gameId               87896 non-null  float64\n",
      " 1   stats.wardsPlaced_x  87896 non-null  float64\n",
      " 2   stats.wardsPlaced_y  87896 non-null  float64\n",
      " 3   stats.wardsKilled_x  87896 non-null  float64\n",
      " 4   stats.wardsKilled_y  87896 non-null  float64\n",
      " 5   win_baron_nashor     87896 non-null  bool   \n",
      " 6   win_dragon_soul      87896 non-null  bool   \n",
      " 7   lose_baron_nashor    87896 non-null  bool   \n",
      " 8   lose_dragon_soul     87896 non-null  bool   \n",
      "dtypes: bool(4), float64(5)\n",
      "memory usage: 4.4 MB\n"
     ]
    }
   ],
   "source": [
    "data_merge.info()"
   ]
  },
  {
   "cell_type": "code",
   "execution_count": 119,
   "id": "76b1f488",
   "metadata": {},
   "outputs": [],
   "source": [
    "for i in range(len(data_merge)):\n",
    "    cur.execute(objectives_visions_table_insert, data_merge[data_merge.columns].values[i].tolist())\n",
    "    conn.commit()\n"
   ]
  },
  {
   "cell_type": "code",
   "execution_count": 120,
   "id": "2389f4f9",
   "metadata": {},
   "outputs": [
    {
     "data": {
      "text/plain": [
       "[(3190375139, False, False, 33, 5, True, False, 26, 3),\n",
       " (3191353856, False, False, 70, 23, True, True, 59, 17),\n",
       " (3191955256, False, False, 79, 21, True, True, 66, 21)]"
      ]
     },
     "execution_count": 120,
     "metadata": {},
     "output_type": "execute_result"
    }
   ],
   "source": [
    "cur.execute(\"\"\"SELECT * FROM objectives_visions limit 3\"\"\")\n",
    "cur.fetchall()"
   ]
  },
  {
   "cell_type": "markdown",
   "id": "e5f0734e",
   "metadata": {},
   "source": [
    "<h1> #4: champion_key table </h1>"
   ]
  },
  {
   "cell_type": "code",
   "execution_count": 131,
   "id": "f2b45289",
   "metadata": {},
   "outputs": [],
   "source": [
    "champion_key_df = meta_champs[['data']]\n",
    "champion_key_df = pd.json_normalize(champion_key_df['data'])"
   ]
  },
  {
   "cell_type": "code",
   "execution_count": 132,
   "id": "c9bcbc88",
   "metadata": {},
   "outputs": [],
   "source": [
    "champion_key_df = champion_key_df[['key', 'id']].sort_values(by=['key'])\n"
   ]
  },
  {
   "cell_type": "code",
   "execution_count": 133,
   "id": "586e5591",
   "metadata": {},
   "outputs": [],
   "source": [
    "for i in range(len(champion_key_df)):\n",
    "    cur.execute(champion_key_table_insert, champion_key_df[champion_key_df.columns].values[i].tolist())\n",
    "    conn.commit()"
   ]
  },
  {
   "cell_type": "code",
   "execution_count": 134,
   "id": "ca79f20d",
   "metadata": {},
   "outputs": [
    {
     "data": {
      "text/plain": [
       "[(1, 'Annie'), (10, 'Kayle'), (101, 'Xerath')]"
      ]
     },
     "execution_count": 134,
     "metadata": {},
     "output_type": "execute_result"
    }
   ],
   "source": [
    "cur.execute(\"\"\"SELECT * FROM champion_key limit 3\"\"\")\n",
    "cur.fetchall()"
   ]
  },
  {
   "cell_type": "markdown",
   "id": "e7522bb5",
   "metadata": {},
   "source": [
    "<h1> #4: item_key table </h1>"
   ]
  },
  {
   "cell_type": "code",
   "execution_count": 135,
   "id": "97b285ea",
   "metadata": {},
   "outputs": [
    {
     "name": "stderr",
     "output_type": "stream",
     "text": [
      "/var/folders/rs/xjf_6_vd4j16cdjg_j2td15h0000gn/T/ipykernel_27914/1959258733.py:2: SettingWithCopyWarning: \n",
      "A value is trying to be set on a copy of a slice from a DataFrame.\n",
      "Try using .loc[row_indexer,col_indexer] = value instead\n",
      "\n",
      "See the caveats in the documentation: https://pandas.pydata.org/pandas-docs/stable/user_guide/indexing.html#returning-a-view-versus-a-copy\n",
      "  item_key_df['index'] = item_key_df.index\n"
     ]
    }
   ],
   "source": [
    "item_key_df = meta_items[['name']]\n",
    "item_key_df['index'] = item_key_df.index\n"
   ]
  },
  {
   "cell_type": "code",
   "execution_count": 137,
   "id": "655eef1b",
   "metadata": {},
   "outputs": [],
   "source": [
    "for i in range(len(item_key_df)):\n",
    "    cur.execute(item_key_table_insert, item_key_df[item_key_df.columns].values[i].tolist())\n",
    "    conn.commit()"
   ]
  },
  {
   "cell_type": "code",
   "execution_count": 138,
   "id": "9f4099ab",
   "metadata": {},
   "outputs": [
    {
     "data": {
      "text/plain": [
       "[(1001, 'Boots of Speed'), (1004, 'Faerie Charm'), (1006, 'Rejuvenation Bead')]"
      ]
     },
     "execution_count": 138,
     "metadata": {},
     "output_type": "execute_result"
    }
   ],
   "source": [
    "cur.execute(\"\"\"SELECT * FROM item_key limit 3\"\"\")\n",
    "cur.fetchall()"
   ]
  },
  {
   "cell_type": "markdown",
   "id": "85639e3b",
   "metadata": {},
   "source": [
    "<h1> #4: game table </h1>"
   ]
  },
  {
   "cell_type": "code",
   "execution_count": 140,
   "id": "e691d0be",
   "metadata": {},
   "outputs": [],
   "source": [
    "a2 = match_df[['gameId', 'participantIdentities', 'gameDuration', 'gameVersion']]\n",
    "df = a2.explode('participantIdentities').reset_index(drop=True)\n",
    "df = df.merge(pd.json_normalize(df['participantIdentities']), left_index=True, right_index=True)"
   ]
  },
  {
   "cell_type": "code",
   "execution_count": 141,
   "id": "8b9dca42",
   "metadata": {},
   "outputs": [],
   "source": [
    "df = df[['gameId', 'player.accountId']]\n"
   ]
  },
  {
   "cell_type": "code",
   "execution_count": 142,
   "id": "5616f01d",
   "metadata": {},
   "outputs": [],
   "source": [
    "df = df.groupby('gameId')['player.accountId'].apply(list).reset_index()\n",
    "a2 = a2[['gameId', 'gameDuration', 'gameVersion']]\n"
   ]
  },
  {
   "cell_type": "code",
   "execution_count": 143,
   "id": "a6016f49",
   "metadata": {},
   "outputs": [],
   "source": [
    "game_df = pd.merge(df, a2, on = 'gameId', how = 'inner' )\n"
   ]
  },
  {
   "cell_type": "code",
   "execution_count": 149,
   "id": "84f844b3",
   "metadata": {},
   "outputs": [
    {
     "data": {
      "text/html": [
       "<div>\n",
       "<style scoped>\n",
       "    .dataframe tbody tr th:only-of-type {\n",
       "        vertical-align: middle;\n",
       "    }\n",
       "\n",
       "    .dataframe tbody tr th {\n",
       "        vertical-align: top;\n",
       "    }\n",
       "\n",
       "    .dataframe thead th {\n",
       "        text-align: right;\n",
       "    }\n",
       "</style>\n",
       "<table border=\"1\" class=\"dataframe\">\n",
       "  <thead>\n",
       "    <tr style=\"text-align: right;\">\n",
       "      <th></th>\n",
       "      <th>gameId</th>\n",
       "      <th>player.accountId</th>\n",
       "      <th>gameDuration</th>\n",
       "      <th>gameVersion</th>\n",
       "    </tr>\n",
       "  </thead>\n",
       "  <tbody>\n",
       "    <tr>\n",
       "      <th>0</th>\n",
       "      <td>3.190375e+09</td>\n",
       "      <td>[rKaQImjZTiOvZ4txjN-HVnLuhfjQlUNom9M13GwutBpi,...</td>\n",
       "      <td>1021.0</td>\n",
       "      <td>8.8.226.7254</td>\n",
       "    </tr>\n",
       "    <tr>\n",
       "      <th>1</th>\n",
       "      <td>3.191354e+09</td>\n",
       "      <td>[kaXDt1S1tNADQwlVpIsFi0Caz6N8lHFXJbTQJSR_SaJxI...</td>\n",
       "      <td>1507.0</td>\n",
       "      <td>8.9.227.7511</td>\n",
       "    </tr>\n",
       "    <tr>\n",
       "      <th>2</th>\n",
       "      <td>3.191955e+09</td>\n",
       "      <td>[S9q18oVV-sIzC5_1j72PbGT6zByb6Qm1FBqOBu3bnbI, ...</td>\n",
       "      <td>1767.0</td>\n",
       "      <td>8.9.227.7511</td>\n",
       "    </tr>\n",
       "    <tr>\n",
       "      <th>3</th>\n",
       "      <td>3.221805e+09</td>\n",
       "      <td>[7B11PtTVRsNoAWxRkgVFa03KkEW358aZk_-2xmr1VFa8,...</td>\n",
       "      <td>1358.0</td>\n",
       "      <td>8.10.229.7328</td>\n",
       "    </tr>\n",
       "    <tr>\n",
       "      <th>4</th>\n",
       "      <td>3.227523e+09</td>\n",
       "      <td>[x_vV5UDgtATjA3lpgRGO6dDWIxqt00MUKUr7SnBVouX8w...</td>\n",
       "      <td>2001.0</td>\n",
       "      <td>8.11.231.7304</td>\n",
       "    </tr>\n",
       "    <tr>\n",
       "      <th>...</th>\n",
       "      <td>...</td>\n",
       "      <td>...</td>\n",
       "      <td>...</td>\n",
       "      <td>...</td>\n",
       "    </tr>\n",
       "    <tr>\n",
       "      <th>87964</th>\n",
       "      <td>4.260971e+09</td>\n",
       "      <td>[6We8MBSW_YWaxbwNIQoim3goWBSwSAQVNYBYYYutfahf5...</td>\n",
       "      <td>2108.0</td>\n",
       "      <td>10.6.314.4405</td>\n",
       "    </tr>\n",
       "    <tr>\n",
       "      <th>87965</th>\n",
       "      <td>4.260996e+09</td>\n",
       "      <td>[kc7eS34jTXJ968Gm7vou_oo5v79EiRQI5FLGmQozCmH_X...</td>\n",
       "      <td>1250.0</td>\n",
       "      <td>10.6.314.4405</td>\n",
       "    </tr>\n",
       "    <tr>\n",
       "      <th>87966</th>\n",
       "      <td>4.261002e+09</td>\n",
       "      <td>[UpwIJ-o30d4lhkcPh7wE_6zdqYokH4uaPoZf1PBpsHWrD...</td>\n",
       "      <td>2190.0</td>\n",
       "      <td>10.6.314.4405</td>\n",
       "    </tr>\n",
       "    <tr>\n",
       "      <th>87967</th>\n",
       "      <td>4.261012e+09</td>\n",
       "      <td>[U2bQNAFp67-yvZQbdvHaIHdzIES8mpaYPml1patvMfp2x...</td>\n",
       "      <td>1538.0</td>\n",
       "      <td>10.6.314.4405</td>\n",
       "    </tr>\n",
       "    <tr>\n",
       "      <th>87968</th>\n",
       "      <td>4.261013e+09</td>\n",
       "      <td>[_2-RkizXetdlIKgZn4tfb8dSFAIlgEMiJrQQJYedN1tKH...</td>\n",
       "      <td>1492.0</td>\n",
       "      <td>10.6.314.4405</td>\n",
       "    </tr>\n",
       "  </tbody>\n",
       "</table>\n",
       "<p>87969 rows × 4 columns</p>\n",
       "</div>"
      ],
      "text/plain": [
       "             gameId                                   player.accountId  \\\n",
       "0      3.190375e+09  [rKaQImjZTiOvZ4txjN-HVnLuhfjQlUNom9M13GwutBpi,...   \n",
       "1      3.191354e+09  [kaXDt1S1tNADQwlVpIsFi0Caz6N8lHFXJbTQJSR_SaJxI...   \n",
       "2      3.191955e+09  [S9q18oVV-sIzC5_1j72PbGT6zByb6Qm1FBqOBu3bnbI, ...   \n",
       "3      3.221805e+09  [7B11PtTVRsNoAWxRkgVFa03KkEW358aZk_-2xmr1VFa8,...   \n",
       "4      3.227523e+09  [x_vV5UDgtATjA3lpgRGO6dDWIxqt00MUKUr7SnBVouX8w...   \n",
       "...             ...                                                ...   \n",
       "87964  4.260971e+09  [6We8MBSW_YWaxbwNIQoim3goWBSwSAQVNYBYYYutfahf5...   \n",
       "87965  4.260996e+09  [kc7eS34jTXJ968Gm7vou_oo5v79EiRQI5FLGmQozCmH_X...   \n",
       "87966  4.261002e+09  [UpwIJ-o30d4lhkcPh7wE_6zdqYokH4uaPoZf1PBpsHWrD...   \n",
       "87967  4.261012e+09  [U2bQNAFp67-yvZQbdvHaIHdzIES8mpaYPml1patvMfp2x...   \n",
       "87968  4.261013e+09  [_2-RkizXetdlIKgZn4tfb8dSFAIlgEMiJrQQJYedN1tKH...   \n",
       "\n",
       "       gameDuration    gameVersion  \n",
       "0            1021.0   8.8.226.7254  \n",
       "1            1507.0   8.9.227.7511  \n",
       "2            1767.0   8.9.227.7511  \n",
       "3            1358.0  8.10.229.7328  \n",
       "4            2001.0  8.11.231.7304  \n",
       "...             ...            ...  \n",
       "87964        2108.0  10.6.314.4405  \n",
       "87965        1250.0  10.6.314.4405  \n",
       "87966        2190.0  10.6.314.4405  \n",
       "87967        1538.0  10.6.314.4405  \n",
       "87968        1492.0  10.6.314.4405  \n",
       "\n",
       "[87969 rows x 4 columns]"
      ]
     },
     "execution_count": 149,
     "metadata": {},
     "output_type": "execute_result"
    }
   ],
   "source": [
    "game_df"
   ]
  },
  {
   "cell_type": "code",
   "execution_count": null,
   "id": "a9780300",
   "metadata": {},
   "outputs": [],
   "source": [
    "for i in range(len(game_df)):\n",
    "    cur.execute(games_table_insert, game_df[game_df.columns].values[i].tolist())\n",
    "    conn.commit()"
   ]
  },
  {
   "cell_type": "code",
   "execution_count": 146,
   "id": "d07bbd65",
   "metadata": {},
   "outputs": [
    {
     "data": {
      "text/plain": [
       "[(3190375139,\n",
       "  1021.0,\n",
       "  '8.8.226.7254',\n",
       "  ['rKaQImjZTiOvZ4txjN-HVnLuhfjQlUNom9M13GwutBpi',\n",
       "   'Th3f97roy4k8E__GshlFHDPfP76TLE5kptO4GecDx7by',\n",
       "   '8abTvRQwXwzT0J4tCtEP_3-mHShfeAL3EcKAkfZA7EnC',\n",
       "   '2j7W-hxT3CYCUSSzT3cbntQYry2bEx_ME_kybyV01KLy',\n",
       "   'OeD4zr0xorGoAGlFXVHVo1hf474l7JqXhKXp67AEu7B0QVc',\n",
       "   's5IirwYLAlm0bimWM6vV7eEWbJePZWWy0SywzLIqRLM',\n",
       "   'qLbKO8QWzyy_ySveGsFFyTEtuRpSWU4R3MkH8SxE6iqc',\n",
       "   'ej_Yq6ot3ORIHdw9YBpBPHXtcFitnD7bShFRrWvrK54F',\n",
       "   'Pd7c7I2_IbRJKfKpxyH13YmkAYXQVtX9VCmn3yjU1hCX',\n",
       "   'CTqmxBX1-b39i2eciDskPnWAbtu7I3cp7-HuUd12R8Cj']),\n",
       " (3191353856,\n",
       "  1507.0,\n",
       "  '8.9.227.7511',\n",
       "  ['kaXDt1S1tNADQwlVpIsFi0Caz6N8lHFXJbTQJSR_SaJxIO8',\n",
       "   'MHQRKpJwavPjK7DKYnayXCtW_5wpbqiYO05aytyYg2IanvI',\n",
       "   'eFcFYgwwS6YbTSRrDnILkx_Nh4usIsQjOVyU7VMoJZlF',\n",
       "   'eB-cQ7uhwmQNh5jpjh2sdDaEx9aUd9Kx-OV15zi81YLj',\n",
       "   'agkXHV65QfgNjgAq38Mvm6bG3Zvm74YOWjnmqr0G1HCaZAY',\n",
       "   'RMs8RAXjKsLSuSmCp7_F5TV3V5TUl41xqfYhc3M-XpEM',\n",
       "   'GVZRA6dU4P9hMHLqjReX8COtBqMVuFeo7hErTIF3kCtU',\n",
       "   'rKaQImjZTiOvZ4txjN-HVnLuhfjQlUNom9M13GwutBpi',\n",
       "   '1Re3T6aEeajR2cCNCD59CW2A8UQ4HMrA-f8RdAeJ3GolqNA',\n",
       "   'h_YSz7GOD5Y5hvGOK-CW-VtdDftugqNa8Q-iCmGmCuH_']),\n",
       " (3191955256,\n",
       "  1767.0,\n",
       "  '8.9.227.7511',\n",
       "  ['S9q18oVV-sIzC5_1j72PbGT6zByb6Qm1FBqOBu3bnbI',\n",
       "   'rQJpg8e-qL2LP1fVApJzOxs_xPwxnKozxlusZYCWarYc',\n",
       "   '4ur76QMToqpyYRWM0wDFyQewql0_kla5ng57XbzRNp4ttlw',\n",
       "   'B52lRaMBIaY3J7Zbg9UyoFVVB7bWeiZMgQ8dgXzFTsk',\n",
       "   'x_vV5UDgtATjA3lpgRGO6dDWIxqt00MUKUr7SnBVouX8w7M',\n",
       "   '3RoQT6JboPIt1Vx5VeMzDCdH1j_NxaZIQ4mLu0lEI8GZ',\n",
       "   '_PjMkcZCTlkTlOSO2TUMnHCKSel74J0_SAs7erFqQgMU',\n",
       "   'zitZWq4ycnHoa2pAfn2jIGl2JK305meff6PdbEfbMoN8N4k',\n",
       "   'ds14x1bbo8nYZWt8FCMVmTTEuTx9uVFGK9i7Mm6PAECZlsw',\n",
       "   'S50hUURWBOdJ4SW7FYSIRXEBM8qu5B0x5cKGYNKlAT4'])]"
      ]
     },
     "execution_count": 146,
     "metadata": {},
     "output_type": "execute_result"
    }
   ],
   "source": [
    "cur.execute(\"\"\"SELECT * FROM games limit 3\"\"\")\n",
    "cur.fetchall()"
   ]
  },
  {
   "cell_type": "markdown",
   "id": "7bc2207f",
   "metadata": {},
   "source": [
    "<h1> Close Connection to MOBAtatic Database <h2>"
   ]
  },
  {
   "cell_type": "code",
   "execution_count": 148,
   "id": "60544a50",
   "metadata": {},
   "outputs": [],
   "source": [
    "conn.close()\n"
   ]
  },
  {
   "cell_type": "code",
   "execution_count": null,
   "id": "7e7c0f0c",
   "metadata": {},
   "outputs": [],
   "source": []
  }
 ],
 "metadata": {
  "kernelspec": {
   "display_name": "Python 3 (ipykernel)",
   "language": "python",
   "name": "python3"
  },
  "language_info": {
   "codemirror_mode": {
    "name": "ipython",
    "version": 3
   },
   "file_extension": ".py",
   "mimetype": "text/x-python",
   "name": "python",
   "nbconvert_exporter": "python",
   "pygments_lexer": "ipython3",
   "version": "3.9.7"
  }
 },
 "nbformat": 4,
 "nbformat_minor": 5
}
